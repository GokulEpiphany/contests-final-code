{
 "cells": [
  {
   "cell_type": "code",
   "execution_count": 1,
   "metadata": {},
   "outputs": [],
   "source": [
    "import pandas as pd"
   ]
  },
  {
   "cell_type": "code",
   "execution_count": 2,
   "metadata": {},
   "outputs": [],
   "source": [
    "df = pd.read_csv('impact-drill.csv')"
   ]
  },
  {
   "cell_type": "code",
   "execution_count": 3,
   "metadata": {},
   "outputs": [
    {
     "data": {
      "text/html": [
       "<div>\n",
       "<style scoped>\n",
       "    .dataframe tbody tr th:only-of-type {\n",
       "        vertical-align: middle;\n",
       "    }\n",
       "\n",
       "    .dataframe tbody tr th {\n",
       "        vertical-align: top;\n",
       "    }\n",
       "\n",
       "    .dataframe thead th {\n",
       "        text-align: right;\n",
       "    }\n",
       "</style>\n",
       "<table border=\"1\" class=\"dataframe\">\n",
       "  <thead>\n",
       "    <tr style=\"text-align: right;\">\n",
       "      <th></th>\n",
       "      <th>Category Name</th>\n",
       "      <th>Unit</th>\n",
       "      <th>Price</th>\n",
       "    </tr>\n",
       "  </thead>\n",
       "  <tbody>\n",
       "    <tr>\n",
       "      <th>0</th>\n",
       "      <td>Impact Drill</td>\n",
       "      <td>Piece</td>\n",
       "      <td>2</td>\n",
       "    </tr>\n",
       "    <tr>\n",
       "      <th>1</th>\n",
       "      <td>Impact Drill</td>\n",
       "      <td>Piece</td>\n",
       "      <td>675</td>\n",
       "    </tr>\n",
       "    <tr>\n",
       "      <th>2</th>\n",
       "      <td>Impact Drill</td>\n",
       "      <td>Piece</td>\n",
       "      <td>766</td>\n",
       "    </tr>\n",
       "    <tr>\n",
       "      <th>3</th>\n",
       "      <td>Impact Drill</td>\n",
       "      <td>Piece</td>\n",
       "      <td>900</td>\n",
       "    </tr>\n",
       "    <tr>\n",
       "      <th>4</th>\n",
       "      <td>Impact Drill</td>\n",
       "      <td>Piece</td>\n",
       "      <td>1000</td>\n",
       "    </tr>\n",
       "  </tbody>\n",
       "</table>\n",
       "</div>"
      ],
      "text/plain": [
       "  Category Name   Unit  Price\n",
       "0  Impact Drill  Piece      2\n",
       "1  Impact Drill  Piece    675\n",
       "2  Impact Drill  Piece    766\n",
       "3  Impact Drill  Piece    900\n",
       "4  Impact Drill  Piece   1000"
      ]
     },
     "execution_count": 3,
     "metadata": {},
     "output_type": "execute_result"
    }
   ],
   "source": [
    "df.head()"
   ]
  },
  {
   "cell_type": "code",
   "execution_count": 4,
   "metadata": {},
   "outputs": [],
   "source": [
    "df_needed = df['Price']"
   ]
  },
  {
   "cell_type": "code",
   "execution_count": 5,
   "metadata": {},
   "outputs": [
    {
     "data": {
      "text/plain": [
       "247"
      ]
     },
     "execution_count": 5,
     "metadata": {},
     "output_type": "execute_result"
    }
   ],
   "source": [
    "len(df_needed)"
   ]
  },
  {
   "cell_type": "code",
   "execution_count": 6,
   "metadata": {},
   "outputs": [
    {
     "data": {
      "text/plain": [
       "0       2\n",
       "1     675\n",
       "2     766\n",
       "3     900\n",
       "4    1000\n",
       "Name: Price, dtype: int64"
      ]
     },
     "execution_count": 6,
     "metadata": {},
     "output_type": "execute_result"
    }
   ],
   "source": [
    "df_needed.head()"
   ]
  },
  {
   "cell_type": "code",
   "execution_count": 7,
   "metadata": {},
   "outputs": [],
   "source": [
    "df_distance = pd.DataFrame(columns=['distance'])"
   ]
  },
  {
   "cell_type": "code",
   "execution_count": 8,
   "metadata": {},
   "outputs": [],
   "source": [
    "df_new = df_needed.copy()"
   ]
  },
  {
   "cell_type": "code",
   "execution_count": 9,
   "metadata": {},
   "outputs": [],
   "source": [
    "count=0\n",
    "for i in df_needed:\n",
    "    distance = 0\n",
    "    for j in df_new:\n",
    "        distance = distance+ abs(i-j)\n",
    "    df_distance.loc[count,'distance']=distance\n",
    "    count=count+1"
   ]
  },
  {
   "cell_type": "code",
   "execution_count": 10,
   "metadata": {},
   "outputs": [
    {
     "data": {
      "text/html": [
       "<div>\n",
       "<style scoped>\n",
       "    .dataframe tbody tr th:only-of-type {\n",
       "        vertical-align: middle;\n",
       "    }\n",
       "\n",
       "    .dataframe tbody tr th {\n",
       "        vertical-align: top;\n",
       "    }\n",
       "\n",
       "    .dataframe thead th {\n",
       "        text-align: right;\n",
       "    }\n",
       "</style>\n",
       "<table border=\"1\" class=\"dataframe\">\n",
       "  <thead>\n",
       "    <tr style=\"text-align: right;\">\n",
       "      <th></th>\n",
       "      <th>distance</th>\n",
       "    </tr>\n",
       "  </thead>\n",
       "  <tbody>\n",
       "    <tr>\n",
       "      <th>0</th>\n",
       "      <td>1622334.0</td>\n",
       "    </tr>\n",
       "    <tr>\n",
       "      <th>1</th>\n",
       "      <td>1457449.0</td>\n",
       "    </tr>\n",
       "    <tr>\n",
       "      <th>2</th>\n",
       "      <td>1435336.0</td>\n",
       "    </tr>\n",
       "    <tr>\n",
       "      <th>3</th>\n",
       "      <td>1403042.0</td>\n",
       "    </tr>\n",
       "    <tr>\n",
       "      <th>4</th>\n",
       "      <td>1379142.0</td>\n",
       "    </tr>\n",
       "  </tbody>\n",
       "</table>\n",
       "</div>"
      ],
      "text/plain": [
       "    distance\n",
       "0  1622334.0\n",
       "1  1457449.0\n",
       "2  1435336.0\n",
       "3  1403042.0\n",
       "4  1379142.0"
      ]
     },
     "execution_count": 10,
     "metadata": {},
     "output_type": "execute_result"
    }
   ],
   "source": [
    "df_distance.head()"
   ]
  },
  {
   "cell_type": "code",
   "execution_count": 11,
   "metadata": {},
   "outputs": [
    {
     "data": {
      "text/plain": [
       "247"
      ]
     },
     "execution_count": 11,
     "metadata": {},
     "output_type": "execute_result"
    }
   ],
   "source": [
    "len(df_distance)"
   ]
  },
  {
   "cell_type": "code",
   "execution_count": 12,
   "metadata": {},
   "outputs": [
    {
     "name": "stdout",
     "output_type": "stream",
     "text": [
      "1622334.0\n",
      "1457449.0\n",
      "1435336.0\n",
      "1403042.0\n",
      "1379142.0\n",
      "1379142.0\n",
      "1379142.0\n",
      "1367492.0\n",
      "1367492.0\n",
      "1363141.0\n",
      "1356104.0\n",
      "1356104.0\n",
      "1344954.0\n",
      "1339429.0\n",
      "1334173.0\n",
      "1333956.0\n",
      "1333956.0\n",
      "1323306.0\n",
      "1314866.0\n",
      "1309432.0\n",
      "1302394.0\n",
      "1302394.0\n",
      "1295695.0\n",
      "1272379.0\n",
      "1272379.0\n",
      "1272182.0\n",
      "1272182.0\n",
      "1252882.0\n",
      "1252882.0\n",
      "1252126.0\n",
      "1246703.0\n",
      "1245963.0\n",
      "1238094.0\n",
      "1236284.0\n",
      "1234494.0\n",
      "1234494.0\n",
      "1232744.0\n",
      "1230495.0\n",
      "1230153.0\n",
      "1227956.0\n",
      "1227455.0\n",
      "1225970.0\n",
      "1225970.0\n",
      "1221301.0\n",
      "1219234.0\n",
      "1219077.0\n",
      "1210242.0\n",
      "1202592.0\n",
      "1201686.0\n",
      "1187829.0\n",
      "1187829.0\n",
      "1187684.0\n",
      "1187684.0\n",
      "1186556.0\n",
      "1185027.0\n",
      "1181465.0\n",
      "1180790.0\n",
      "1176933.0\n",
      "1174182.0\n",
      "1174182.0\n",
      "1174182.0\n",
      "1174182.0\n",
      "1172337.0\n",
      "1172095.0\n",
      "1168882.0\n",
      "1168531.0\n",
      "1168301.0\n",
      "1168188.0\n",
      "1168188.0\n",
      "1168079.0\n",
      "1166474.0\n",
      "1163219.0\n",
      "1162910.0\n",
      "1162708.0\n",
      "1160332.0\n",
      "1158683.0\n",
      "1158018.0\n",
      "1154577.0\n",
      "1154304.0\n",
      "1153681.0\n",
      "1153420.0\n",
      "1153420.0\n",
      "1153420.0\n",
      "1150747.0\n",
      "1149878.0\n",
      "1147106.0\n",
      "1147106.0\n",
      "1145719.0\n",
      "1145648.0\n",
      "1145648.0\n",
      "1142298.0\n",
      "1141713.0\n",
      "1140390.0\n",
      "1140329.0\n",
      "1139208.0\n",
      "1139208.0\n",
      "1139208.0\n",
      "1139208.0\n",
      "1139208.0\n",
      "1137052.0\n",
      "1134420.0\n",
      "1133115.0\n",
      "1132212.0\n",
      "1131064.0\n",
      "1130245.0\n",
      "1130208.0\n",
      "1129753.0\n",
      "1129753.0\n",
      "1128606.0\n",
      "1127823.0\n",
      "1127229.0\n",
      "1127229.0\n",
      "1127229.0\n",
      "1127208.0\n",
      "1126087.0\n",
      "1125560.0\n",
      "1125455.0\n",
      "1125429.0\n",
      "1125319.0\n",
      "1124509.0\n",
      "1124502.0\n",
      "1124502.0\n",
      "1124214.0\n",
      "1124212.0\n",
      "1124233.0\n",
      "1124293.0\n",
      "1124363.0\n",
      "1124545.0\n",
      "1124545.0\n",
      "1125051.0\n",
      "1125077.0\n",
      "1126622.0\n",
      "1126945.0\n",
      "1127268.0\n",
      "1127352.0\n",
      "1128019.0\n",
      "1128819.0\n",
      "1129602.0\n",
      "1130762.0\n",
      "1130762.0\n",
      "1131851.0\n",
      "1132621.0\n",
      "1135766.0\n",
      "1135766.0\n",
      "1137857.0\n",
      "1137857.0\n",
      "1137992.0\n",
      "1141987.0\n",
      "1144045.0\n",
      "1144045.0\n",
      "1145476.0\n",
      "1153836.0\n",
      "1163127.0\n",
      "1168260.0\n",
      "1179301.0\n",
      "1181632.0\n",
      "1181697.0\n",
      "1183774.0\n",
      "1183774.0\n",
      "1183774.0\n",
      "1183774.0\n",
      "1185199.0\n",
      "1185199.0\n",
      "1201473.0\n",
      "1215243.0\n",
      "1220555.0\n",
      "1223190.0\n",
      "1224060.0\n",
      "1224060.0\n",
      "1224060.0\n",
      "1242660.0\n",
      "1243610.0\n",
      "1252340.0\n",
      "1253627.0\n",
      "1269484.0\n",
      "1282874.0\n",
      "1284869.0\n",
      "1284869.0\n",
      "1287703.0\n",
      "1292698.0\n",
      "1292698.0\n",
      "1301898.0\n",
      "1320618.0\n",
      "1322046.0\n",
      "1329064.0\n",
      "1333984.0\n",
      "1357734.0\n",
      "1357734.0\n",
      "1366764.0\n",
      "1432264.0\n",
      "1442904.0\n",
      "1459104.0\n",
      "1491984.0\n",
      "1504494.0\n",
      "1507314.0\n",
      "1509316.0\n",
      "1528891.0\n",
      "1602391.0\n",
      "1602540.0\n",
      "1602540.0\n",
      "1602540.0\n",
      "1614940.0\n",
      "1680880.0\n",
      "1680880.0\n",
      "1680880.0\n",
      "1688215.0\n",
      "1782265.0\n",
      "1783100.0\n",
      "1847320.0\n",
      "1877929.0\n",
      "1933462.0\n",
      "1933462.0\n",
      "1933462.0\n",
      "1970336.0\n",
      "2164730.0\n",
      "2279837.0\n",
      "2281502.0\n",
      "2352936.0\n",
      "2356149.0\n",
      "2364362.0\n",
      "2460862.0\n",
      "2544712.0\n",
      "2544712.0\n",
      "2630282.0\n",
      "2644352.0\n",
      "2703425.0\n",
      "3535520.0\n",
      "3579818.0\n",
      "4237332.0\n",
      "4442002.0\n",
      "4853092.0\n",
      "4853092.0\n",
      "5535557.0\n",
      "5543003.0\n",
      "5636044.0\n",
      "6046364.0\n",
      "7207364.0\n",
      "7207364.0\n",
      "7793375.0\n",
      "7860134.0\n",
      "8032088.0\n",
      "8324428.0\n",
      "8675425.0\n",
      "10145514.0\n",
      "11962172.0\n",
      "11962172.0\n",
      "11962172.0\n"
     ]
    }
   ],
   "source": [
    "for i in df_distance['distance']:\n",
    "    print(i)"
   ]
  },
  {
   "cell_type": "code",
   "execution_count": 13,
   "metadata": {},
   "outputs": [],
   "source": [
    "sum = 0\n",
    "for i in df_needed:\n",
    "    sum = sum + i\n",
    "    "
   ]
  },
  {
   "cell_type": "code",
   "execution_count": 14,
   "metadata": {},
   "outputs": [],
   "source": [
    "average = sum/247"
   ]
  },
  {
   "cell_type": "code",
   "execution_count": 16,
   "metadata": {},
   "outputs": [
    {
     "data": {
      "text/plain": [
       "6570.153846153846"
      ]
     },
     "execution_count": 16,
     "metadata": {},
     "output_type": "execute_result"
    }
   ],
   "source": [
    "average "
   ]
  },
  {
   "cell_type": "code",
   "execution_count": 17,
   "metadata": {},
   "outputs": [
    {
     "data": {
      "text/plain": [
       "6568.153846153846"
      ]
     },
     "execution_count": 17,
     "metadata": {},
     "output_type": "execute_result"
    }
   ],
   "source": [
    "df_distance['distance'][0]/247"
   ]
  },
  {
   "cell_type": "code",
   "execution_count": 18,
   "metadata": {},
   "outputs": [
    {
     "name": "stdout",
     "output_type": "stream",
     "text": [
      "Outlier 0\n",
      "Outlier 220\n",
      "Outlier 221\n",
      "Outlier 222\n",
      "Outlier 223\n",
      "Outlier 224\n",
      "Outlier 225\n",
      "Outlier 226\n",
      "Outlier 227\n",
      "Outlier 228\n",
      "Outlier 229\n",
      "Outlier 230\n",
      "Outlier 231\n",
      "Outlier 232\n",
      "Outlier 233\n",
      "Outlier 234\n",
      "Outlier 235\n",
      "Outlier 236\n",
      "Outlier 237\n",
      "Outlier 238\n",
      "Outlier 239\n",
      "Outlier 240\n",
      "Outlier 241\n",
      "Outlier 242\n",
      "Outlier 243\n",
      "Outlier 244\n",
      "Outlier 245\n",
      "Outlier 246\n"
     ]
    }
   ],
   "source": [
    "count=0\n",
    "for i in df_distance['distance']:\n",
    "    if ((i/247)> (average*1.5)) or ((i/247) < (average*0.1)) or (df_needed[count] < average * 0.1):\n",
    "        print(\"Outlier \"+str(count))\n",
    "    count= count+1"
   ]
  },
  {
   "cell_type": "markdown",
   "metadata": {},
   "source": [
    "# All values from 1-219 are valid\n"
   ]
  },
  {
   "cell_type": "code",
   "execution_count": 19,
   "metadata": {},
   "outputs": [
    {
     "data": {
      "text/plain": [
       "675"
      ]
     },
     "execution_count": 19,
     "metadata": {},
     "output_type": "execute_result"
    }
   ],
   "source": [
    "df_needed[1]"
   ]
  },
  {
   "cell_type": "code",
   "execution_count": 20,
   "metadata": {},
   "outputs": [
    {
     "data": {
      "text/plain": [
       "12360"
      ]
     },
     "execution_count": 20,
     "metadata": {},
     "output_type": "execute_result"
    }
   ],
   "source": [
    "df_needed[219]"
   ]
  },
  {
   "cell_type": "markdown",
   "metadata": {},
   "source": [
    "# Price range of impact drill is 675-12360"
   ]
  },
  {
   "cell_type": "code",
   "execution_count": null,
   "metadata": {},
   "outputs": [],
   "source": []
  }
 ],
 "metadata": {
  "kernelspec": {
   "display_name": "Python 3",
   "language": "python",
   "name": "python3"
  },
  "language_info": {
   "codemirror_mode": {
    "name": "ipython",
    "version": 3
   },
   "file_extension": ".py",
   "mimetype": "text/x-python",
   "name": "python",
   "nbconvert_exporter": "python",
   "pygments_lexer": "ipython3",
   "version": "3.6.6"
  }
 },
 "nbformat": 4,
 "nbformat_minor": 2
}
