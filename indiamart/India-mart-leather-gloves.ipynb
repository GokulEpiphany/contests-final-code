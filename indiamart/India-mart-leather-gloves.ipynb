{
 "cells": [
  {
   "cell_type": "code",
   "execution_count": 1,
   "metadata": {},
   "outputs": [],
   "source": [
    "import pandas as pd"
   ]
  },
  {
   "cell_type": "code",
   "execution_count": 2,
   "metadata": {},
   "outputs": [],
   "source": [
    "df = pd.read_csv('leather-safety-gloves.csv')"
   ]
  },
  {
   "cell_type": "code",
   "execution_count": 3,
   "metadata": {},
   "outputs": [
    {
     "data": {
      "text/html": [
       "<div>\n",
       "<style scoped>\n",
       "    .dataframe tbody tr th:only-of-type {\n",
       "        vertical-align: middle;\n",
       "    }\n",
       "\n",
       "    .dataframe tbody tr th {\n",
       "        vertical-align: top;\n",
       "    }\n",
       "\n",
       "    .dataframe thead th {\n",
       "        text-align: right;\n",
       "    }\n",
       "</style>\n",
       "<table border=\"1\" class=\"dataframe\">\n",
       "  <thead>\n",
       "    <tr style=\"text-align: right;\">\n",
       "      <th></th>\n",
       "      <th>Category Name</th>\n",
       "      <th>Unit</th>\n",
       "      <th>Price</th>\n",
       "    </tr>\n",
       "  </thead>\n",
       "  <tbody>\n",
       "    <tr>\n",
       "      <th>0</th>\n",
       "      <td>Leather Safety Gloves</td>\n",
       "      <td>Pair</td>\n",
       "      <td>10</td>\n",
       "    </tr>\n",
       "    <tr>\n",
       "      <th>1</th>\n",
       "      <td>Leather Safety Gloves</td>\n",
       "      <td>Pair</td>\n",
       "      <td>12</td>\n",
       "    </tr>\n",
       "    <tr>\n",
       "      <th>2</th>\n",
       "      <td>Leather Safety Gloves</td>\n",
       "      <td>Pair</td>\n",
       "      <td>12</td>\n",
       "    </tr>\n",
       "    <tr>\n",
       "      <th>3</th>\n",
       "      <td>Leather Safety Gloves</td>\n",
       "      <td>Pair</td>\n",
       "      <td>20</td>\n",
       "    </tr>\n",
       "    <tr>\n",
       "      <th>4</th>\n",
       "      <td>Leather Safety Gloves</td>\n",
       "      <td>Pair</td>\n",
       "      <td>23</td>\n",
       "    </tr>\n",
       "  </tbody>\n",
       "</table>\n",
       "</div>"
      ],
      "text/plain": [
       "           Category Name  Unit  Price\n",
       "0  Leather Safety Gloves  Pair     10\n",
       "1  Leather Safety Gloves  Pair     12\n",
       "2  Leather Safety Gloves  Pair     12\n",
       "3  Leather Safety Gloves  Pair     20\n",
       "4  Leather Safety Gloves  Pair     23"
      ]
     },
     "execution_count": 3,
     "metadata": {},
     "output_type": "execute_result"
    }
   ],
   "source": [
    "df.head()"
   ]
  },
  {
   "cell_type": "code",
   "execution_count": 4,
   "metadata": {},
   "outputs": [],
   "source": [
    "df_needed = df['Price']"
   ]
  },
  {
   "cell_type": "code",
   "execution_count": 5,
   "metadata": {},
   "outputs": [
    {
     "data": {
      "text/plain": [
       "144"
      ]
     },
     "execution_count": 5,
     "metadata": {},
     "output_type": "execute_result"
    }
   ],
   "source": [
    "len(df_needed)"
   ]
  },
  {
   "cell_type": "code",
   "execution_count": 6,
   "metadata": {},
   "outputs": [
    {
     "data": {
      "text/plain": [
       "0    10\n",
       "1    12\n",
       "2    12\n",
       "3    20\n",
       "4    23\n",
       "Name: Price, dtype: int64"
      ]
     },
     "execution_count": 6,
     "metadata": {},
     "output_type": "execute_result"
    }
   ],
   "source": [
    "df_needed.head()"
   ]
  },
  {
   "cell_type": "code",
   "execution_count": 7,
   "metadata": {},
   "outputs": [],
   "source": [
    "df_distance = pd.DataFrame(columns=['distance'])"
   ]
  },
  {
   "cell_type": "code",
   "execution_count": 8,
   "metadata": {},
   "outputs": [],
   "source": [
    "df_new = df_needed.copy()"
   ]
  },
  {
   "cell_type": "code",
   "execution_count": 10,
   "metadata": {},
   "outputs": [],
   "source": [
    "count=0\n",
    "for i in df_needed:\n",
    "    distance = 0\n",
    "    for j in df_new:\n",
    "        distance = distance+ abs(i-j)\n",
    "    df_distance.loc[count,'distance']=distance\n",
    "    count=count+1"
   ]
  },
  {
   "cell_type": "code",
   "execution_count": 11,
   "metadata": {},
   "outputs": [
    {
     "data": {
      "text/html": [
       "<div>\n",
       "<style scoped>\n",
       "    .dataframe tbody tr th:only-of-type {\n",
       "        vertical-align: middle;\n",
       "    }\n",
       "\n",
       "    .dataframe tbody tr th {\n",
       "        vertical-align: top;\n",
       "    }\n",
       "\n",
       "    .dataframe thead th {\n",
       "        text-align: right;\n",
       "    }\n",
       "</style>\n",
       "<table border=\"1\" class=\"dataframe\">\n",
       "  <thead>\n",
       "    <tr style=\"text-align: right;\">\n",
       "      <th></th>\n",
       "      <th>distance</th>\n",
       "    </tr>\n",
       "  </thead>\n",
       "  <tbody>\n",
       "    <tr>\n",
       "      <th>0</th>\n",
       "      <td>60769.0</td>\n",
       "    </tr>\n",
       "    <tr>\n",
       "      <th>1</th>\n",
       "      <td>60485.0</td>\n",
       "    </tr>\n",
       "    <tr>\n",
       "      <th>2</th>\n",
       "      <td>60485.0</td>\n",
       "    </tr>\n",
       "    <tr>\n",
       "      <th>3</th>\n",
       "      <td>59381.0</td>\n",
       "    </tr>\n",
       "    <tr>\n",
       "      <th>4</th>\n",
       "      <td>58973.0</td>\n",
       "    </tr>\n",
       "  </tbody>\n",
       "</table>\n",
       "</div>"
      ],
      "text/plain": [
       "   distance\n",
       "0   60769.0\n",
       "1   60485.0\n",
       "2   60485.0\n",
       "3   59381.0\n",
       "4   58973.0"
      ]
     },
     "execution_count": 11,
     "metadata": {},
     "output_type": "execute_result"
    }
   ],
   "source": [
    "df_distance.head()"
   ]
  },
  {
   "cell_type": "code",
   "execution_count": 12,
   "metadata": {},
   "outputs": [
    {
     "data": {
      "text/plain": [
       "144"
      ]
     },
     "execution_count": 12,
     "metadata": {},
     "output_type": "execute_result"
    }
   ],
   "source": [
    "len(df_distance)"
   ]
  },
  {
   "cell_type": "code",
   "execution_count": 14,
   "metadata": {},
   "outputs": [
    {
     "name": "stdout",
     "output_type": "stream",
     "text": [
      "60769.0\n",
      "60485.0\n",
      "60485.0\n",
      "59381.0\n",
      "58973.0\n",
      "58705.0\n",
      "58705.0\n",
      "58705.0\n",
      "58193.0\n",
      "58067.0\n",
      "57943.0\n",
      "57821.0\n",
      "57461.0\n",
      "57461.0\n",
      "57113.0\n",
      "57113.0\n",
      "57113.0\n",
      "56893.0\n",
      "56893.0\n",
      "56893.0\n",
      "56893.0\n",
      "56893.0\n",
      "56893.0\n",
      "56893.0\n",
      "56893.0\n",
      "56423.0\n",
      "56423.0\n",
      "56423.0\n",
      "56423.0\n",
      "56423.0\n",
      "56423.0\n",
      "56013.0\n",
      "56013.0\n",
      "56013.0\n",
      "56013.0\n",
      "56013.0\n",
      "55941.0\n",
      "55871.0\n",
      "55871.0\n",
      "55673.0\n",
      "55353.0\n",
      "55353.0\n",
      "55053.0\n",
      "55053.0\n",
      "55053.0\n",
      "55053.0\n",
      "55053.0\n",
      "55053.0\n",
      "55053.0\n",
      "54961.0\n",
      "54917.0\n",
      "54833.0\n",
      "54833.0\n",
      "54833.0\n",
      "54833.0\n",
      "54833.0\n",
      "54673.0\n",
      "54673.0\n",
      "54673.0\n",
      "54673.0\n",
      "54601.0\n",
      "54557.0\n",
      "54557.0\n",
      "54557.0\n",
      "54557.0\n",
      "54557.0\n",
      "54557.0\n",
      "54507.0\n",
      "54507.0\n",
      "54477.0\n",
      "54477.0\n",
      "54477.0\n",
      "54477.0\n",
      "54479.0\n",
      "54495.0\n",
      "54495.0\n",
      "54495.0\n",
      "54495.0\n",
      "54495.0\n",
      "54635.0\n",
      "54635.0\n",
      "54635.0\n",
      "54835.0\n",
      "54835.0\n",
      "54955.0\n",
      "54955.0\n",
      "55095.0\n",
      "55245.0\n",
      "55565.0\n",
      "55735.0\n",
      "55735.0\n",
      "55735.0\n",
      "55935.0\n",
      "56565.0\n",
      "56565.0\n",
      "56795.0\n",
      "56795.0\n",
      "56795.0\n",
      "56795.0\n",
      "56795.0\n",
      "56907.0\n",
      "57081.0\n",
      "57081.0\n",
      "57081.0\n",
      "57081.0\n",
      "57081.0\n",
      "57081.0\n",
      "57081.0\n",
      "57081.0\n",
      "57081.0\n",
      "57081.0\n",
      "57861.0\n",
      "58261.0\n",
      "58589.0\n",
      "58673.0\n",
      "58673.0\n",
      "58673.0\n",
      "61373.0\n",
      "62293.0\n",
      "63233.0\n",
      "63233.0\n",
      "63233.0\n",
      "63233.0\n",
      "63233.0\n",
      "68433.0\n",
      "73733.0\n",
      "75461.0\n",
      "84701.0\n",
      "101501.0\n",
      "112331.0\n",
      "122307.0\n",
      "122779.0\n",
      "122899.0\n",
      "145835.0\n",
      "145835.0\n",
      "168011.0\n",
      "168267.0\n",
      "205707.0\n",
      "223527.0\n",
      "308617.0\n",
      "360841.0\n",
      "635875.0\n",
      "1250615.0\n",
      "2670047.0\n"
     ]
    }
   ],
   "source": [
    "for i in df_distance['distance']:\n",
    "    print(i)"
   ]
  },
  {
   "cell_type": "code",
   "execution_count": 15,
   "metadata": {},
   "outputs": [],
   "source": [
    "sum = 0\n",
    "for i in df_needed:\n",
    "    sum = sum + i\n",
    "    "
   ]
  },
  {
   "cell_type": "code",
   "execution_count": 16,
   "metadata": {},
   "outputs": [],
   "source": [
    "average = sum/144"
   ]
  },
  {
   "cell_type": "code",
   "execution_count": 17,
   "metadata": {},
   "outputs": [
    {
     "data": {
      "text/plain": [
       "432.00694444444446"
      ]
     },
     "execution_count": 17,
     "metadata": {},
     "output_type": "execute_result"
    }
   ],
   "source": [
    "average"
   ]
  },
  {
   "cell_type": "code",
   "execution_count": 28,
   "metadata": {},
   "outputs": [
    {
     "name": "stdout",
     "output_type": "stream",
     "text": [
      "Outlier 0\n",
      "Outlier 1\n",
      "Outlier 2\n",
      "Outlier 3\n",
      "Outlier 4\n",
      "Outlier 5\n",
      "Outlier 6\n",
      "Outlier 7\n",
      "Outlier 8\n",
      "Outlier 9\n",
      "Outlier 10\n",
      "Outlier 11\n",
      "Outlier 12\n",
      "Outlier 13\n",
      "Outlier 14\n",
      "Outlier 15\n",
      "Outlier 16\n",
      "Outlier 17\n",
      "Outlier 18\n",
      "Outlier 19\n",
      "Outlier 20\n",
      "Outlier 21\n",
      "Outlier 22\n",
      "Outlier 23\n",
      "Outlier 24\n",
      "Outlier 128\n",
      "Outlier 129\n",
      "Outlier 130\n",
      "Outlier 131\n",
      "Outlier 132\n",
      "Outlier 133\n",
      "Outlier 134\n",
      "Outlier 135\n",
      "Outlier 136\n",
      "Outlier 137\n",
      "Outlier 138\n",
      "Outlier 139\n",
      "Outlier 140\n",
      "Outlier 141\n",
      "Outlier 142\n",
      "Outlier 143\n"
     ]
    }
   ],
   "source": [
    "count=0\n",
    "for i in df_distance['distance']:\n",
    "    if ((i/144)> (average*1.5)) or ((i/144) < (average*0.5)) or (df_needed[count] < average * 0.1):\n",
    "        print(\"Outlier \"+str(count))\n",
    "    count= count+1"
   ]
  },
  {
   "cell_type": "markdown",
   "metadata": {},
   "source": [
    "# All values from 25-127 are valid\n",
    "# 128-143 are outliers\n"
   ]
  },
  {
   "cell_type": "code",
   "execution_count": 29,
   "metadata": {},
   "outputs": [
    {
     "data": {
      "text/plain": [
       "45"
      ]
     },
     "execution_count": 29,
     "metadata": {},
     "output_type": "execute_result"
    }
   ],
   "source": [
    "df_needed[25]"
   ]
  },
  {
   "cell_type": "code",
   "execution_count": 30,
   "metadata": {},
   "outputs": [
    {
     "data": {
      "text/plain": [
       "450"
      ]
     },
     "execution_count": 30,
     "metadata": {},
     "output_type": "execute_result"
    }
   ],
   "source": [
    "df_needed[127]"
   ]
  },
  {
   "cell_type": "markdown",
   "metadata": {},
   "source": [
    "# Price range of leather-safety-gloves is 45-450"
   ]
  },
  {
   "cell_type": "code",
   "execution_count": null,
   "metadata": {},
   "outputs": [],
   "source": []
  }
 ],
 "metadata": {
  "kernelspec": {
   "display_name": "Python 3",
   "language": "python",
   "name": "python3"
  },
  "language_info": {
   "codemirror_mode": {
    "name": "ipython",
    "version": 3
   },
   "file_extension": ".py",
   "mimetype": "text/x-python",
   "name": "python",
   "nbconvert_exporter": "python",
   "pygments_lexer": "ipython3",
   "version": "3.6.6"
  }
 },
 "nbformat": 4,
 "nbformat_minor": 2
}
