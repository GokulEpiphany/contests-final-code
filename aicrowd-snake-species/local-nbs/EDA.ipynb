{
 "cells": [
  {
   "cell_type": "code",
   "execution_count": 1,
   "metadata": {},
   "outputs": [],
   "source": [
    "\n",
    "from fastai.script import *\n",
    "from fastai.vision import *\n",
    "from fastai.callbacks import *\n",
    "from fastai.distributed import *\n",
    "from fastprogress import fastprogress\n",
    "from torchvision.models import *"
   ]
  },
  {
   "cell_type": "code",
   "execution_count": 2,
   "metadata": {},
   "outputs": [],
   "source": [
    "import torch\n",
    "import torch.nn as nn\n",
    "import torch.nn.functional as F"
   ]
  },
  {
   "cell_type": "code",
   "execution_count": 65,
   "metadata": {},
   "outputs": [],
   "source": [
    "src = (ImageList.from_folder(path='train').split_by_rand_pct(0.2).label_from_folder())"
   ]
  },
  {
   "cell_type": "code",
   "execution_count": 66,
   "metadata": {},
   "outputs": [],
   "source": [
    "data = (src.transform(([],[]), size=48, resize_method=ResizeMethod.SQUISH)\n",
    "        .databunch(bs=64).normalize())"
   ]
  },
  {
   "cell_type": "code",
   "execution_count": 67,
   "metadata": {},
   "outputs": [
    {
     "data": {
      "text/plain": [
       "array([ 0,  0,  0,  0, ..., 44, 44, 44, 44], dtype=int64)"
      ]
     },
     "execution_count": 67,
     "metadata": {},
     "output_type": "execute_result"
    }
   ],
   "source": [
    "data.train_ds.y.items"
   ]
  },
  {
   "cell_type": "code",
   "execution_count": 68,
   "metadata": {},
   "outputs": [
    {
     "data": {
      "text/plain": [
       "65934"
      ]
     },
     "execution_count": 68,
     "metadata": {},
     "output_type": "execute_result"
    }
   ],
   "source": [
    "len(data.train_ds.y.items)"
   ]
  },
  {
   "cell_type": "code",
   "execution_count": 69,
   "metadata": {},
   "outputs": [],
   "source": [
    "x,y = np.unique(data.train_ds.y.items,return_counts=True)"
   ]
  },
  {
   "cell_type": "code",
   "execution_count": 70,
   "metadata": {},
   "outputs": [
    {
     "data": {
      "text/plain": [
       "{'class-1059': 724,\n",
       " 'class-128': 603,\n",
       " 'class-140': 1197,\n",
       " 'class-1625': 1321,\n",
       " 'class-204': 8830,\n",
       " 'class-239': 537,\n",
       " 'class-273': 456,\n",
       " 'class-326': 515,\n",
       " 'class-337': 2763,\n",
       " 'class-362': 1749,\n",
       " 'class-390': 1819,\n",
       " 'class-394': 971,\n",
       " 'class-4': 1192,\n",
       " 'class-448': 2025,\n",
       " 'class-450': 815,\n",
       " 'class-460': 1113,\n",
       " 'class-508': 1656,\n",
       " 'class-526': 501,\n",
       " 'class-536': 1093,\n",
       " 'class-540': 832,\n",
       " 'class-543': 1097,\n",
       " 'class-561': 416,\n",
       " 'class-581': 1519,\n",
       " 'class-597': 793,\n",
       " 'class-629': 428,\n",
       " 'class-635': 953,\n",
       " 'class-639': 1779,\n",
       " 'class-653': 589,\n",
       " 'class-654': 866,\n",
       " 'class-663': 773,\n",
       " 'class-67': 2593,\n",
       " 'class-697': 3667,\n",
       " 'class-707': 909,\n",
       " 'class-72': 702,\n",
       " 'class-734': 473,\n",
       " 'class-771': 4377,\n",
       " 'class-78': 1713,\n",
       " 'class-784': 423,\n",
       " 'class-804': 2013,\n",
       " 'class-811': 735,\n",
       " 'class-854': 1416,\n",
       " 'class-857': 898,\n",
       " 'class-872': 4442,\n",
       " 'class-957': 483,\n",
       " 'class-966': 1165}"
      ]
     },
     "execution_count": 70,
     "metadata": {},
     "output_type": "execute_result"
    }
   ],
   "source": [
    "dict(zip(data.classes,y))"
   ]
  },
  {
   "cell_type": "code",
   "execution_count": 20,
   "metadata": {},
   "outputs": [],
   "source": [
    "df_sub = pd.read_csv('submission-7.csv',low_memory=False\n",
    "        )"
   ]
  },
  {
   "cell_type": "code",
   "execution_count": 21,
   "metadata": {},
   "outputs": [
    {
     "data": {
      "text/html": [
       "<div>\n",
       "<style scoped>\n",
       "    .dataframe tbody tr th:only-of-type {\n",
       "        vertical-align: middle;\n",
       "    }\n",
       "\n",
       "    .dataframe tbody tr th {\n",
       "        vertical-align: top;\n",
       "    }\n",
       "\n",
       "    .dataframe thead th {\n",
       "        text-align: right;\n",
       "    }\n",
       "</style>\n",
       "<table border=\"1\" class=\"dataframe\">\n",
       "  <thead>\n",
       "    <tr style=\"text-align: right;\">\n",
       "      <th></th>\n",
       "      <th>filename</th>\n",
       "      <th>agkistrodon_contortrix</th>\n",
       "      <th>agkistrodon_piscivorus</th>\n",
       "      <th>boa_imperator</th>\n",
       "      <th>carphophis_amoenus</th>\n",
       "      <th>charina_bottae</th>\n",
       "      <th>coluber_constrictor</th>\n",
       "      <th>crotalus_adamanteus</th>\n",
       "      <th>crotalus_atrox</th>\n",
       "      <th>crotalus_horridus</th>\n",
       "      <th>...</th>\n",
       "      <th>regina_septemvittata</th>\n",
       "      <th>rhinocheilus_lecontei</th>\n",
       "      <th>storeria_dekayi</th>\n",
       "      <th>storeria_occipitomaculata</th>\n",
       "      <th>thamnophis_elegans</th>\n",
       "      <th>thamnophis_marcianus</th>\n",
       "      <th>thamnophis_ordinoides</th>\n",
       "      <th>thamnophis_proximus</th>\n",
       "      <th>thamnophis_radix</th>\n",
       "      <th>thamnophis_sirtalis</th>\n",
       "    </tr>\n",
       "  </thead>\n",
       "  <tbody>\n",
       "    <tr>\n",
       "      <th>0</th>\n",
       "      <td>e5cf4ff0a9326e1eae50b7b4c6ddff19.jpg</td>\n",
       "      <td>0.001101</td>\n",
       "      <td>0.001290</td>\n",
       "      <td>0.000592</td>\n",
       "      <td>0.012547</td>\n",
       "      <td>0.000688</td>\n",
       "      <td>0.002600</td>\n",
       "      <td>0.000500</td>\n",
       "      <td>0.001253</td>\n",
       "      <td>0.000725</td>\n",
       "      <td>...</td>\n",
       "      <td>0.001283</td>\n",
       "      <td>0.000663</td>\n",
       "      <td>0.002120</td>\n",
       "      <td>0.001215</td>\n",
       "      <td>0.000632</td>\n",
       "      <td>0.000941</td>\n",
       "      <td>0.001305</td>\n",
       "      <td>0.000713</td>\n",
       "      <td>0.000452</td>\n",
       "      <td>0.001553</td>\n",
       "    </tr>\n",
       "    <tr>\n",
       "      <th>1</th>\n",
       "      <td>04c26281edbd155dca879084cdf860dc.jpg</td>\n",
       "      <td>0.012227</td>\n",
       "      <td>0.009883</td>\n",
       "      <td>0.006562</td>\n",
       "      <td>0.004459</td>\n",
       "      <td>0.004420</td>\n",
       "      <td>0.004619</td>\n",
       "      <td>0.005584</td>\n",
       "      <td>0.022746</td>\n",
       "      <td>0.023403</td>\n",
       "      <td>...</td>\n",
       "      <td>0.003802</td>\n",
       "      <td>0.009957</td>\n",
       "      <td>0.012157</td>\n",
       "      <td>0.004046</td>\n",
       "      <td>0.003008</td>\n",
       "      <td>0.006691</td>\n",
       "      <td>0.005566</td>\n",
       "      <td>0.006390</td>\n",
       "      <td>0.006932</td>\n",
       "      <td>0.648545</td>\n",
       "    </tr>\n",
       "    <tr>\n",
       "      <th>2</th>\n",
       "      <td>703e09e07ef754f4e60b7dfb3cad53bc.jpg</td>\n",
       "      <td>0.000000</td>\n",
       "      <td>0.000000</td>\n",
       "      <td>0.000000</td>\n",
       "      <td>0.000000</td>\n",
       "      <td>0.000000</td>\n",
       "      <td>0.000000</td>\n",
       "      <td>0.000000</td>\n",
       "      <td>0.000000</td>\n",
       "      <td>0.000000</td>\n",
       "      <td>...</td>\n",
       "      <td>0.000000</td>\n",
       "      <td>0.000000</td>\n",
       "      <td>0.000000</td>\n",
       "      <td>0.000000</td>\n",
       "      <td>0.000000</td>\n",
       "      <td>0.000000</td>\n",
       "      <td>0.000000</td>\n",
       "      <td>0.000000</td>\n",
       "      <td>0.000000</td>\n",
       "      <td>0.000000</td>\n",
       "    </tr>\n",
       "    <tr>\n",
       "      <th>3</th>\n",
       "      <td>6930489ef4a47b44e717c351b1893019.jpg</td>\n",
       "      <td>0.051632</td>\n",
       "      <td>0.010804</td>\n",
       "      <td>0.010608</td>\n",
       "      <td>0.004762</td>\n",
       "      <td>0.024319</td>\n",
       "      <td>0.010939</td>\n",
       "      <td>0.009692</td>\n",
       "      <td>0.138383</td>\n",
       "      <td>0.019260</td>\n",
       "      <td>...</td>\n",
       "      <td>0.006025</td>\n",
       "      <td>0.016214</td>\n",
       "      <td>0.016145</td>\n",
       "      <td>0.007686</td>\n",
       "      <td>0.007105</td>\n",
       "      <td>0.008815</td>\n",
       "      <td>0.030455</td>\n",
       "      <td>0.006049</td>\n",
       "      <td>0.010626</td>\n",
       "      <td>0.062437</td>\n",
       "    </tr>\n",
       "    <tr>\n",
       "      <th>4</th>\n",
       "      <td>790d4ba419acd10b3f27c40abf641686.jpg</td>\n",
       "      <td>0.005229</td>\n",
       "      <td>0.007836</td>\n",
       "      <td>0.010057</td>\n",
       "      <td>0.003692</td>\n",
       "      <td>0.008069</td>\n",
       "      <td>0.008216</td>\n",
       "      <td>0.006193</td>\n",
       "      <td>0.018113</td>\n",
       "      <td>0.004133</td>\n",
       "      <td>...</td>\n",
       "      <td>0.004513</td>\n",
       "      <td>0.004308</td>\n",
       "      <td>0.108470</td>\n",
       "      <td>0.018880</td>\n",
       "      <td>0.209652</td>\n",
       "      <td>0.020386</td>\n",
       "      <td>0.018643</td>\n",
       "      <td>0.005512</td>\n",
       "      <td>0.011422</td>\n",
       "      <td>0.165548</td>\n",
       "    </tr>\n",
       "  </tbody>\n",
       "</table>\n",
       "<p>5 rows × 46 columns</p>\n",
       "</div>"
      ],
      "text/plain": [
       "                               filename  agkistrodon_contortrix  \\\n",
       "0  e5cf4ff0a9326e1eae50b7b4c6ddff19.jpg                0.001101   \n",
       "1  04c26281edbd155dca879084cdf860dc.jpg                0.012227   \n",
       "2  703e09e07ef754f4e60b7dfb3cad53bc.jpg                0.000000   \n",
       "3  6930489ef4a47b44e717c351b1893019.jpg                0.051632   \n",
       "4  790d4ba419acd10b3f27c40abf641686.jpg                0.005229   \n",
       "\n",
       "   agkistrodon_piscivorus  boa_imperator  carphophis_amoenus  charina_bottae  \\\n",
       "0                0.001290       0.000592            0.012547        0.000688   \n",
       "1                0.009883       0.006562            0.004459        0.004420   \n",
       "2                0.000000       0.000000            0.000000        0.000000   \n",
       "3                0.010804       0.010608            0.004762        0.024319   \n",
       "4                0.007836       0.010057            0.003692        0.008069   \n",
       "\n",
       "   coluber_constrictor  crotalus_adamanteus  crotalus_atrox  \\\n",
       "0             0.002600             0.000500        0.001253   \n",
       "1             0.004619             0.005584        0.022746   \n",
       "2             0.000000             0.000000        0.000000   \n",
       "3             0.010939             0.009692        0.138383   \n",
       "4             0.008216             0.006193        0.018113   \n",
       "\n",
       "   crotalus_horridus  ...  regina_septemvittata  rhinocheilus_lecontei  \\\n",
       "0           0.000725  ...              0.001283               0.000663   \n",
       "1           0.023403  ...              0.003802               0.009957   \n",
       "2           0.000000  ...              0.000000               0.000000   \n",
       "3           0.019260  ...              0.006025               0.016214   \n",
       "4           0.004133  ...              0.004513               0.004308   \n",
       "\n",
       "   storeria_dekayi  storeria_occipitomaculata  thamnophis_elegans  \\\n",
       "0         0.002120                   0.001215            0.000632   \n",
       "1         0.012157                   0.004046            0.003008   \n",
       "2         0.000000                   0.000000            0.000000   \n",
       "3         0.016145                   0.007686            0.007105   \n",
       "4         0.108470                   0.018880            0.209652   \n",
       "\n",
       "   thamnophis_marcianus  thamnophis_ordinoides  thamnophis_proximus  \\\n",
       "0              0.000941               0.001305             0.000713   \n",
       "1              0.006691               0.005566             0.006390   \n",
       "2              0.000000               0.000000             0.000000   \n",
       "3              0.008815               0.030455             0.006049   \n",
       "4              0.020386               0.018643             0.005512   \n",
       "\n",
       "   thamnophis_radix  thamnophis_sirtalis  \n",
       "0          0.000452             0.001553  \n",
       "1          0.006932             0.648545  \n",
       "2          0.000000             0.000000  \n",
       "3          0.010626             0.062437  \n",
       "4          0.011422             0.165548  \n",
       "\n",
       "[5 rows x 46 columns]"
      ]
     },
     "execution_count": 21,
     "metadata": {},
     "output_type": "execute_result"
    }
   ],
   "source": [
    "df_sub.head()"
   ]
  },
  {
   "cell_type": "code",
   "execution_count": 24,
   "metadata": {},
   "outputs": [],
   "source": [
    "df_new = df_sub.iloc[:,1:46]"
   ]
  },
  {
   "cell_type": "code",
   "execution_count": 25,
   "metadata": {},
   "outputs": [
    {
     "data": {
      "text/html": [
       "<div>\n",
       "<style scoped>\n",
       "    .dataframe tbody tr th:only-of-type {\n",
       "        vertical-align: middle;\n",
       "    }\n",
       "\n",
       "    .dataframe tbody tr th {\n",
       "        vertical-align: top;\n",
       "    }\n",
       "\n",
       "    .dataframe thead th {\n",
       "        text-align: right;\n",
       "    }\n",
       "</style>\n",
       "<table border=\"1\" class=\"dataframe\">\n",
       "  <thead>\n",
       "    <tr style=\"text-align: right;\">\n",
       "      <th></th>\n",
       "      <th>agkistrodon_contortrix</th>\n",
       "      <th>agkistrodon_piscivorus</th>\n",
       "      <th>boa_imperator</th>\n",
       "      <th>carphophis_amoenus</th>\n",
       "      <th>charina_bottae</th>\n",
       "      <th>coluber_constrictor</th>\n",
       "      <th>crotalus_adamanteus</th>\n",
       "      <th>crotalus_atrox</th>\n",
       "      <th>crotalus_horridus</th>\n",
       "      <th>crotalus_pyrrhus</th>\n",
       "      <th>...</th>\n",
       "      <th>regina_septemvittata</th>\n",
       "      <th>rhinocheilus_lecontei</th>\n",
       "      <th>storeria_dekayi</th>\n",
       "      <th>storeria_occipitomaculata</th>\n",
       "      <th>thamnophis_elegans</th>\n",
       "      <th>thamnophis_marcianus</th>\n",
       "      <th>thamnophis_ordinoides</th>\n",
       "      <th>thamnophis_proximus</th>\n",
       "      <th>thamnophis_radix</th>\n",
       "      <th>thamnophis_sirtalis</th>\n",
       "    </tr>\n",
       "  </thead>\n",
       "  <tbody>\n",
       "    <tr>\n",
       "      <th>0</th>\n",
       "      <td>0.001101</td>\n",
       "      <td>0.001290</td>\n",
       "      <td>0.000592</td>\n",
       "      <td>0.012547</td>\n",
       "      <td>0.000688</td>\n",
       "      <td>0.002600</td>\n",
       "      <td>0.000500</td>\n",
       "      <td>0.001253</td>\n",
       "      <td>0.000725</td>\n",
       "      <td>0.000762</td>\n",
       "      <td>...</td>\n",
       "      <td>0.001283</td>\n",
       "      <td>0.000663</td>\n",
       "      <td>0.002120</td>\n",
       "      <td>0.001215</td>\n",
       "      <td>0.000632</td>\n",
       "      <td>0.000941</td>\n",
       "      <td>0.001305</td>\n",
       "      <td>0.000713</td>\n",
       "      <td>0.000452</td>\n",
       "      <td>0.001553</td>\n",
       "    </tr>\n",
       "    <tr>\n",
       "      <th>1</th>\n",
       "      <td>0.012227</td>\n",
       "      <td>0.009883</td>\n",
       "      <td>0.006562</td>\n",
       "      <td>0.004459</td>\n",
       "      <td>0.004420</td>\n",
       "      <td>0.004619</td>\n",
       "      <td>0.005584</td>\n",
       "      <td>0.022746</td>\n",
       "      <td>0.023403</td>\n",
       "      <td>0.008770</td>\n",
       "      <td>...</td>\n",
       "      <td>0.003802</td>\n",
       "      <td>0.009957</td>\n",
       "      <td>0.012157</td>\n",
       "      <td>0.004046</td>\n",
       "      <td>0.003008</td>\n",
       "      <td>0.006691</td>\n",
       "      <td>0.005566</td>\n",
       "      <td>0.006390</td>\n",
       "      <td>0.006932</td>\n",
       "      <td>0.648545</td>\n",
       "    </tr>\n",
       "    <tr>\n",
       "      <th>2</th>\n",
       "      <td>0.000000</td>\n",
       "      <td>0.000000</td>\n",
       "      <td>0.000000</td>\n",
       "      <td>0.000000</td>\n",
       "      <td>0.000000</td>\n",
       "      <td>0.000000</td>\n",
       "      <td>0.000000</td>\n",
       "      <td>0.000000</td>\n",
       "      <td>0.000000</td>\n",
       "      <td>0.000000</td>\n",
       "      <td>...</td>\n",
       "      <td>0.000000</td>\n",
       "      <td>0.000000</td>\n",
       "      <td>0.000000</td>\n",
       "      <td>0.000000</td>\n",
       "      <td>0.000000</td>\n",
       "      <td>0.000000</td>\n",
       "      <td>0.000000</td>\n",
       "      <td>0.000000</td>\n",
       "      <td>0.000000</td>\n",
       "      <td>0.000000</td>\n",
       "    </tr>\n",
       "    <tr>\n",
       "      <th>3</th>\n",
       "      <td>0.051632</td>\n",
       "      <td>0.010804</td>\n",
       "      <td>0.010608</td>\n",
       "      <td>0.004762</td>\n",
       "      <td>0.024319</td>\n",
       "      <td>0.010939</td>\n",
       "      <td>0.009692</td>\n",
       "      <td>0.138383</td>\n",
       "      <td>0.019260</td>\n",
       "      <td>0.081868</td>\n",
       "      <td>...</td>\n",
       "      <td>0.006025</td>\n",
       "      <td>0.016214</td>\n",
       "      <td>0.016145</td>\n",
       "      <td>0.007686</td>\n",
       "      <td>0.007105</td>\n",
       "      <td>0.008815</td>\n",
       "      <td>0.030455</td>\n",
       "      <td>0.006049</td>\n",
       "      <td>0.010626</td>\n",
       "      <td>0.062437</td>\n",
       "    </tr>\n",
       "    <tr>\n",
       "      <th>4</th>\n",
       "      <td>0.005229</td>\n",
       "      <td>0.007836</td>\n",
       "      <td>0.010057</td>\n",
       "      <td>0.003692</td>\n",
       "      <td>0.008069</td>\n",
       "      <td>0.008216</td>\n",
       "      <td>0.006193</td>\n",
       "      <td>0.018113</td>\n",
       "      <td>0.004133</td>\n",
       "      <td>0.009408</td>\n",
       "      <td>...</td>\n",
       "      <td>0.004513</td>\n",
       "      <td>0.004308</td>\n",
       "      <td>0.108470</td>\n",
       "      <td>0.018880</td>\n",
       "      <td>0.209652</td>\n",
       "      <td>0.020386</td>\n",
       "      <td>0.018643</td>\n",
       "      <td>0.005512</td>\n",
       "      <td>0.011422</td>\n",
       "      <td>0.165548</td>\n",
       "    </tr>\n",
       "  </tbody>\n",
       "</table>\n",
       "<p>5 rows × 45 columns</p>\n",
       "</div>"
      ],
      "text/plain": [
       "   agkistrodon_contortrix  agkistrodon_piscivorus  boa_imperator  \\\n",
       "0                0.001101                0.001290       0.000592   \n",
       "1                0.012227                0.009883       0.006562   \n",
       "2                0.000000                0.000000       0.000000   \n",
       "3                0.051632                0.010804       0.010608   \n",
       "4                0.005229                0.007836       0.010057   \n",
       "\n",
       "   carphophis_amoenus  charina_bottae  coluber_constrictor  \\\n",
       "0            0.012547        0.000688             0.002600   \n",
       "1            0.004459        0.004420             0.004619   \n",
       "2            0.000000        0.000000             0.000000   \n",
       "3            0.004762        0.024319             0.010939   \n",
       "4            0.003692        0.008069             0.008216   \n",
       "\n",
       "   crotalus_adamanteus  crotalus_atrox  crotalus_horridus  crotalus_pyrrhus  \\\n",
       "0             0.000500        0.001253           0.000725          0.000762   \n",
       "1             0.005584        0.022746           0.023403          0.008770   \n",
       "2             0.000000        0.000000           0.000000          0.000000   \n",
       "3             0.009692        0.138383           0.019260          0.081868   \n",
       "4             0.006193        0.018113           0.004133          0.009408   \n",
       "\n",
       "   ...  regina_septemvittata  rhinocheilus_lecontei  storeria_dekayi  \\\n",
       "0  ...              0.001283               0.000663         0.002120   \n",
       "1  ...              0.003802               0.009957         0.012157   \n",
       "2  ...              0.000000               0.000000         0.000000   \n",
       "3  ...              0.006025               0.016214         0.016145   \n",
       "4  ...              0.004513               0.004308         0.108470   \n",
       "\n",
       "   storeria_occipitomaculata  thamnophis_elegans  thamnophis_marcianus  \\\n",
       "0                   0.001215            0.000632              0.000941   \n",
       "1                   0.004046            0.003008              0.006691   \n",
       "2                   0.000000            0.000000              0.000000   \n",
       "3                   0.007686            0.007105              0.008815   \n",
       "4                   0.018880            0.209652              0.020386   \n",
       "\n",
       "   thamnophis_ordinoides  thamnophis_proximus  thamnophis_radix  \\\n",
       "0               0.001305             0.000713          0.000452   \n",
       "1               0.005566             0.006390          0.006932   \n",
       "2               0.000000             0.000000          0.000000   \n",
       "3               0.030455             0.006049          0.010626   \n",
       "4               0.018643             0.005512          0.011422   \n",
       "\n",
       "   thamnophis_sirtalis  \n",
       "0             0.001553  \n",
       "1             0.648545  \n",
       "2             0.000000  \n",
       "3             0.062437  \n",
       "4             0.165548  \n",
       "\n",
       "[5 rows x 45 columns]"
      ]
     },
     "execution_count": 25,
     "metadata": {},
     "output_type": "execute_result"
    }
   ],
   "source": [
    "df_new.head()"
   ]
  },
  {
   "cell_type": "code",
   "execution_count": 42,
   "metadata": {},
   "outputs": [],
   "source": [
    "temp=df_new.idxmax(axis=1)"
   ]
  },
  {
   "cell_type": "code",
   "execution_count": 32,
   "metadata": {},
   "outputs": [],
   "source": [
    "df_class = pd.read_csv('class.csv')"
   ]
  },
  {
   "cell_type": "code",
   "execution_count": 33,
   "metadata": {},
   "outputs": [
    {
     "data": {
      "text/html": [
       "<div>\n",
       "<style scoped>\n",
       "    .dataframe tbody tr th:only-of-type {\n",
       "        vertical-align: middle;\n",
       "    }\n",
       "\n",
       "    .dataframe tbody tr th {\n",
       "        vertical-align: top;\n",
       "    }\n",
       "\n",
       "    .dataframe thead th {\n",
       "        text-align: right;\n",
       "    }\n",
       "</style>\n",
       "<table border=\"1\" class=\"dataframe\">\n",
       "  <thead>\n",
       "    <tr style=\"text-align: right;\">\n",
       "      <th></th>\n",
       "      <th>original_class</th>\n",
       "      <th>class_idx</th>\n",
       "    </tr>\n",
       "  </thead>\n",
       "  <tbody>\n",
       "    <tr>\n",
       "      <th>0</th>\n",
       "      <td>thamnophis_proximus</td>\n",
       "      <td>4</td>\n",
       "    </tr>\n",
       "    <tr>\n",
       "      <th>1</th>\n",
       "      <td>nerodia_sipedon</td>\n",
       "      <td>67</td>\n",
       "    </tr>\n",
       "    <tr>\n",
       "      <th>2</th>\n",
       "      <td>opheodrys_vernalis</td>\n",
       "      <td>72</td>\n",
       "    </tr>\n",
       "    <tr>\n",
       "      <th>3</th>\n",
       "      <td>crotalus_horridus</td>\n",
       "      <td>78</td>\n",
       "    </tr>\n",
       "    <tr>\n",
       "      <th>4</th>\n",
       "      <td>crotalus_pyrrhus</td>\n",
       "      <td>128</td>\n",
       "    </tr>\n",
       "  </tbody>\n",
       "</table>\n",
       "</div>"
      ],
      "text/plain": [
       "        original_class  class_idx\n",
       "0  thamnophis_proximus          4\n",
       "1      nerodia_sipedon         67\n",
       "2   opheodrys_vernalis         72\n",
       "3    crotalus_horridus         78\n",
       "4     crotalus_pyrrhus        128"
      ]
     },
     "execution_count": 33,
     "metadata": {},
     "output_type": "execute_result"
    }
   ],
   "source": [
    "df_class.head()"
   ]
  },
  {
   "cell_type": "code",
   "execution_count": 39,
   "metadata": {},
   "outputs": [],
   "source": [
    "data_dict = df_class.set_index('original_class')['class_idx'].to_dict()"
   ]
  },
  {
   "cell_type": "code",
   "execution_count": 40,
   "metadata": {},
   "outputs": [
    {
     "data": {
      "text/plain": [
       "{'thamnophis_proximus': 4,\n",
       " 'nerodia_sipedon': 67,\n",
       " 'opheodrys_vernalis': 72,\n",
       " 'crotalus_horridus': 78,\n",
       " 'crotalus_pyrrhus': 128,\n",
       " 'nerodia_rhombifer': 140,\n",
       " 'thamnophis_sirtalis': 204,\n",
       " 'natrix_natrix': 239,\n",
       " 'crotalus_adamanteus': 273,\n",
       " 'charina_bottae': 326,\n",
       " 'pituophis_catenifer': 337,\n",
       " 'lampropeltis_triangulum': 362,\n",
       " 'nerodia_erythrogaster': 390,\n",
       " 'thamnophis_marcianus': 394,\n",
       " 'lampropeltis_californiae': 448,\n",
       " 'crotalus_ruber': 450,\n",
       " 'rhinocheilus_lecontei': 460,\n",
       " 'opheodrys_aestivus': 508,\n",
       " 'thamnophis_ordinoides': 526,\n",
       " 'thamnophis_radix': 536,\n",
       " 'masticophis_flagellum': 540,\n",
       " 'pantherophis_vulpinus': 543,\n",
       " 'hierophis_viridiflavus': 561,\n",
       " 'heterodon_platirhinos': 581,\n",
       " 'pantherophis_emoryi': 597,\n",
       " 'regina_septemvittata': 629,\n",
       " 'haldea_striatula': 635,\n",
       " 'diadophis_punctatus': 639,\n",
       " 'nerodia_fasciata': 653,\n",
       " 'storeria_occipitomaculata': 654,\n",
       " 'crotalus_scutulatus': 663,\n",
       " 'storeria_dekayi': 697,\n",
       " 'crotalus_viridis': 707,\n",
       " 'boa_imperator': 734,\n",
       " 'pantherophis_obsoletus': 771,\n",
       " 'lichanura_trivirgata': 784,\n",
       " 'agkistrodon_contortrix': 804,\n",
       " 'thamnophis_elegans': 811,\n",
       " 'agkistrodon_piscivorus': 854,\n",
       " 'pantherophis_guttatus': 857,\n",
       " 'crotalus_atrox': 872,\n",
       " 'carphophis_amoenus': 957,\n",
       " 'coluber_constrictor': 966,\n",
       " 'pantherophis_spiloides': 1059,\n",
       " 'pantherophis_alleghaniensis': 1625}"
      ]
     },
     "execution_count": 40,
     "metadata": {},
     "output_type": "execute_result"
    }
   ],
   "source": [
    "data_dict"
   ]
  },
  {
   "cell_type": "code",
   "execution_count": 45,
   "metadata": {},
   "outputs": [],
   "source": [
    "count=0;\n",
    "for i in temp:\n",
    "    temp[count]=\"class-\"+str(data_dict[i])\n",
    "    count += 1"
   ]
  },
  {
   "cell_type": "code",
   "execution_count": 46,
   "metadata": {},
   "outputs": [
    {
     "data": {
      "text/plain": [
       "0         class-635\n",
       "1         class-204\n",
       "2         class-140\n",
       "3         class-872\n",
       "4         class-811\n",
       "5         class-654\n",
       "6         class-204\n",
       "7         class-707\n",
       "8         class-337\n",
       "9         class-771\n",
       "10         class-78\n",
       "11        class-536\n",
       "12        class-128\n",
       "13        class-204\n",
       "14        class-204\n",
       "15        class-697\n",
       "16        class-697\n",
       "17        class-561\n",
       "18        class-204\n",
       "19        class-204\n",
       "20        class-450\n",
       "21        class-390\n",
       "22        class-857\n",
       "23        class-204\n",
       "24        class-204\n",
       "25        class-337\n",
       "26        class-663\n",
       "27        class-872\n",
       "28        class-337\n",
       "29        class-204\n",
       "            ...    \n",
       "17701     class-540\n",
       "17702     class-771\n",
       "17703     class-448\n",
       "17704     class-771\n",
       "17705      class-78\n",
       "17706     class-771\n",
       "17707     class-957\n",
       "17708     class-697\n",
       "17709     class-771\n",
       "17710     class-204\n",
       "17711     class-460\n",
       "17712     class-508\n",
       "17713     class-854\n",
       "17714     class-697\n",
       "17715    class-1625\n",
       "17716     class-337\n",
       "17717     class-639\n",
       "17718     class-653\n",
       "17719    class-1625\n",
       "17720     class-771\n",
       "17721    class-1625\n",
       "17722     class-663\n",
       "17723     class-872\n",
       "17724     class-635\n",
       "17725     class-204\n",
       "17726     class-390\n",
       "17727     class-966\n",
       "17728     class-872\n",
       "17729     class-362\n",
       "17730      class-78\n",
       "Length: 17731, dtype: object"
      ]
     },
     "execution_count": 46,
     "metadata": {},
     "output_type": "execute_result"
    }
   ],
   "source": [
    "temp"
   ]
  },
  {
   "cell_type": "code",
   "execution_count": 73,
   "metadata": {},
   "outputs": [
    {
     "data": {
      "text/plain": [
       "{'class-1059': 0.010980677647344315,\n",
       " 'class-128': 0.009145509145509146,\n",
       " 'class-140': 0.018154518154518153,\n",
       " 'class-1625': 0.020035186701853367,\n",
       " 'class-204': 0.13392180058846725,\n",
       " 'class-239': 0.008144508144508145,\n",
       " 'class-273': 0.006916006916006916,\n",
       " 'class-326': 0.007810841144174478,\n",
       " 'class-337': 0.0419055419055419,\n",
       " 'class-362': 0.026526526526526525,\n",
       " 'class-390': 0.02758819425486092,\n",
       " 'class-394': 0.014726848060181394,\n",
       " 'class-4': 0.018078684745351414,\n",
       " 'class-448': 0.030712530712530713,\n",
       " 'class-450': 0.012360845694179027,\n",
       " 'class-460': 0.01688051688051688,\n",
       " 'class-508': 0.025116025116025117,\n",
       " 'class-526': 0.0075985075985075985,\n",
       " 'class-536': 0.01657718324384991,\n",
       " 'class-540': 0.012618679285345952,\n",
       " 'class-543': 0.016637849971183304,\n",
       " 'class-561': 0.006309339642672976,\n",
       " 'class-581': 0.023038189704856372,\n",
       " 'class-597': 0.01202717869384536,\n",
       " 'class-629': 0.006491339824673158,\n",
       " 'class-635': 0.014453847787181121,\n",
       " 'class-639': 0.02698152698152698,\n",
       " 'class-653': 0.008933175599842266,\n",
       " 'class-654': 0.013134346467679801,\n",
       " 'class-663': 0.01172384505717839,\n",
       " 'class-67': 0.03932720599387266,\n",
       " 'class-697': 0.05561622228288895,\n",
       " 'class-707': 0.013786513786513787,\n",
       " 'class-72': 0.010647010647010647,\n",
       " 'class-734': 0.00717384050717384,\n",
       " 'class-771': 0.06638456638456638,\n",
       " 'class-78': 0.02598052598052598,\n",
       " 'class-784': 0.006415506415506415,\n",
       " 'class-804': 0.03053053053053053,\n",
       " 'class-811': 0.011147511147511148,\n",
       " 'class-854': 0.021476021476021477,\n",
       " 'class-857': 0.013619680286346953,\n",
       " 'class-872': 0.06737040070373404,\n",
       " 'class-957': 0.007325507325507325,\n",
       " 'class-966': 0.017669184335851004}"
      ]
     },
     "execution_count": 73,
     "metadata": {},
     "output_type": "execute_result"
    }
   ],
   "source": [
    "dict(zip(data.classes,y))"
   ]
  },
  {
   "cell_type": "code",
   "execution_count": 55,
   "metadata": {},
   "outputs": [],
   "source": [
    "new_x,new_y= np.unique(temp,return_counts=True)"
   ]
  },
  {
   "cell_type": "code",
   "execution_count": 64,
   "metadata": {},
   "outputs": [
    {
     "data": {
      "text/plain": [
       "{'class-1059': 0.0033275054988438327,\n",
       " 'class-128': 0.008798150132536237,\n",
       " 'class-140': 0.020754610569059837,\n",
       " 'class-1625': 0.023630928881619762,\n",
       " 'class-204': 0.1506401218205403,\n",
       " 'class-239': 0.004624668659410073,\n",
       " 'class-273': 0.005357847837121426,\n",
       " 'class-326': 0.006542214201116689,\n",
       " 'class-337': 0.04359596187468276,\n",
       " 'class-362': 0.024758896847329535,\n",
       " 'class-390': 0.031131915853589757,\n",
       " 'class-394': 0.014437989961085106,\n",
       " 'class-4': 0.017483503468501495,\n",
       " 'class-448': 0.02966555749816705,\n",
       " 'class-450': 0.011730866843381649,\n",
       " 'class-460': 0.016975917883932098,\n",
       " 'class-508': 0.02673284078732164,\n",
       " 'class-526': 0.004004286278269697,\n",
       " 'class-536': 0.013704810783373753,\n",
       " 'class-540': 0.009813321301675032,\n",
       " 'class-543': 0.016299137104506232,\n",
       " 'class-561': 0.004963059049123005,\n",
       " 'class-581': 0.018837065027353224,\n",
       " 'class-597': 0.009756922903389543,\n",
       " 'class-629': 0.005188652642264959,\n",
       " 'class-635': 0.016073543511364276,\n",
       " 'class-639': 0.024420506457616602,\n",
       " 'class-653': 0.006429417404545711,\n",
       " 'class-654': 0.010433703682815407,\n",
       " 'class-663': 0.00986971969996052,\n",
       " 'class-67': 0.03761773165642096,\n",
       " 'class-697': 0.06198183971575207,\n",
       " 'class-707': 0.01206925723309458,\n",
       " 'class-72': 0.007613783768540974,\n",
       " 'class-734': 0.00558344143026338,\n",
       " 'class-771': 0.08110089673453275,\n",
       " 'class-78': 0.02577406801646833,\n",
       " 'class-784': 0.005188652642264959,\n",
       " 'class-804': 0.03276746940386893,\n",
       " 'class-811': 0.007613783768540974,\n",
       " 'class-854': 0.02278495290733743,\n",
       " 'class-857': 0.012520444419378489,\n",
       " 'class-872': 0.07743500084597597,\n",
       " 'class-957': 0.007500986971969996,\n",
       " 'class-966': 0.012464046021093002}"
      ]
     },
     "execution_count": 64,
     "metadata": {},
     "output_type": "execute_result"
    }
   ],
   "source": [
    "dict(zip(new_x,new_y))"
   ]
  },
  {
   "cell_type": "code",
   "execution_count": 58,
   "metadata": {},
   "outputs": [],
   "source": [
    "new_y = new_y/new_y.sum()"
   ]
  },
  {
   "cell_type": "code",
   "execution_count": 59,
   "metadata": {},
   "outputs": [
    {
     "data": {
      "text/plain": [
       "array([0.003328, 0.008798, 0.020755, 0.023631, 0.15064 , 0.004625, 0.005358, 0.006542, 0.043596, 0.024759, 0.031132,\n",
       "       0.014438, 0.017484, 0.029666, 0.011731, 0.016976, 0.026733, 0.004004, 0.013705, 0.009813, 0.016299, 0.004963,\n",
       "       0.018837, 0.009757, 0.005189, 0.016074, 0.024421, 0.006429, 0.010434, 0.00987 , 0.037618, 0.061982, 0.012069,\n",
       "       0.007614, 0.005583, 0.081101, 0.025774, 0.005189, 0.032767, 0.007614, 0.022785, 0.01252 , 0.077435, 0.007501,\n",
       "       0.012464])"
      ]
     },
     "execution_count": 59,
     "metadata": {},
     "output_type": "execute_result"
    }
   ],
   "source": [
    "new_y"
   ]
  },
  {
   "cell_type": "code",
   "execution_count": 60,
   "metadata": {},
   "outputs": [
    {
     "data": {
      "text/plain": [
       "array([  889,   748,  1494,  1676, 11075,   676,   580,   637,  3471,  2148,  2292,  1230,  1495,  2565,   999,  1392,\n",
       "        2058,   628,  1362,  1052,  1378,   530,  1905,  1004,   527,  1185,  2179,   714,  1069,   955,  3197,  4608,\n",
       "        1147,   849,   593,  5513,  2136,   517,  2549,   908,  1771,  1131,  5517,   600,  1468], dtype=int64)"
      ]
     },
     "execution_count": 60,
     "metadata": {},
     "output_type": "execute_result"
    }
   ],
   "source": [
    "y"
   ]
  },
  {
   "cell_type": "code",
   "execution_count": 71,
   "metadata": {},
   "outputs": [],
   "source": [
    "y = y/y.sum()"
   ]
  },
  {
   "cell_type": "code",
   "execution_count": 72,
   "metadata": {},
   "outputs": [
    {
     "data": {
      "text/plain": [
       "array([0.010981, 0.009146, 0.018155, 0.020035, 0.133922, 0.008145, 0.006916, 0.007811, 0.041906, 0.026527, 0.027588,\n",
       "       0.014727, 0.018079, 0.030713, 0.012361, 0.016881, 0.025116, 0.007599, 0.016577, 0.012619, 0.016638, 0.006309,\n",
       "       0.023038, 0.012027, 0.006491, 0.014454, 0.026982, 0.008933, 0.013134, 0.011724, 0.039327, 0.055616, 0.013787,\n",
       "       0.010647, 0.007174, 0.066385, 0.025981, 0.006416, 0.030531, 0.011148, 0.021476, 0.01362 , 0.06737 , 0.007326,\n",
       "       0.017669])"
      ]
     },
     "execution_count": 72,
     "metadata": {},
     "output_type": "execute_result"
    }
   ],
   "source": [
    "y"
   ]
  },
  {
   "cell_type": "code",
   "execution_count": 75,
   "metadata": {},
   "outputs": [
    {
     "data": {
      "text/plain": [
       "array([ 0,  0,  0,  0, ..., 44, 44, 44, 44], dtype=int64)"
      ]
     },
     "execution_count": 75,
     "metadata": {},
     "output_type": "execute_result"
    }
   ],
   "source": [
    "data.train_ds.y.items"
   ]
  },
  {
   "cell_type": "code",
   "execution_count": null,
   "metadata": {},
   "outputs": [],
   "source": []
  }
 ],
 "metadata": {
  "kernelspec": {
   "display_name": "Python 3",
   "language": "python",
   "name": "python3"
  },
  "language_info": {
   "codemirror_mode": {
    "name": "ipython",
    "version": 3
   },
   "file_extension": ".py",
   "mimetype": "text/x-python",
   "name": "python",
   "nbconvert_exporter": "python",
   "pygments_lexer": "ipython3",
   "version": "3.6.7"
  }
 },
 "nbformat": 4,
 "nbformat_minor": 2
}
