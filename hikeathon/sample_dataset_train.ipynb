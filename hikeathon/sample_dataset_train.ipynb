{
 "cells": [
  {
   "cell_type": "code",
   "execution_count": 1,
   "metadata": {},
   "outputs": [],
   "source": [
    "from fastai.tabular import *"
   ]
  },
  {
   "cell_type": "code",
   "execution_count": 2,
   "metadata": {},
   "outputs": [],
   "source": [
    "import pandas as pd"
   ]
  },
  {
   "cell_type": "code",
   "execution_count": 3,
   "metadata": {},
   "outputs": [],
   "source": [
    "df = pd.read_csv('test_data.csv',low_memory=False)"
   ]
  },
  {
   "cell_type": "code",
   "execution_count": 4,
   "metadata": {},
   "outputs": [
    {
     "data": {
      "text/html": [
       "<div>\n",
       "<style scoped>\n",
       "    .dataframe tbody tr th:only-of-type {\n",
       "        vertical-align: middle;\n",
       "    }\n",
       "\n",
       "    .dataframe tbody tr th {\n",
       "        vertical-align: top;\n",
       "    }\n",
       "\n",
       "    .dataframe thead th {\n",
       "        text-align: right;\n",
       "    }\n",
       "</style>\n",
       "<table border=\"1\" class=\"dataframe\">\n",
       "  <thead>\n",
       "    <tr style=\"text-align: right;\">\n",
       "      <th></th>\n",
       "      <th>node1_id</th>\n",
       "      <th>node2_id</th>\n",
       "      <th>is_chat</th>\n",
       "      <th>f1_x</th>\n",
       "      <th>f2_x</th>\n",
       "      <th>f3_x</th>\n",
       "      <th>f4_x</th>\n",
       "      <th>f5_x</th>\n",
       "      <th>f6_x</th>\n",
       "      <th>f7_x</th>\n",
       "      <th>...</th>\n",
       "      <th>f4_y</th>\n",
       "      <th>f5_y</th>\n",
       "      <th>f6_y</th>\n",
       "      <th>f7_y</th>\n",
       "      <th>f8_y</th>\n",
       "      <th>f9_y</th>\n",
       "      <th>f10_y</th>\n",
       "      <th>f11_y</th>\n",
       "      <th>f12_y</th>\n",
       "      <th>f13_y</th>\n",
       "    </tr>\n",
       "  </thead>\n",
       "  <tbody>\n",
       "    <tr>\n",
       "      <th>0</th>\n",
       "      <td>8446602</td>\n",
       "      <td>6636127</td>\n",
       "      <td>0</td>\n",
       "      <td>22</td>\n",
       "      <td>0</td>\n",
       "      <td>0</td>\n",
       "      <td>24</td>\n",
       "      <td>0</td>\n",
       "      <td>0</td>\n",
       "      <td>24</td>\n",
       "      <td>...</td>\n",
       "      <td>15</td>\n",
       "      <td>11</td>\n",
       "      <td>5</td>\n",
       "      <td>19</td>\n",
       "      <td>12</td>\n",
       "      <td>5</td>\n",
       "      <td>16</td>\n",
       "      <td>10</td>\n",
       "      <td>4</td>\n",
       "      <td>10</td>\n",
       "    </tr>\n",
       "    <tr>\n",
       "      <th>1</th>\n",
       "      <td>1430102</td>\n",
       "      <td>7433949</td>\n",
       "      <td>0</td>\n",
       "      <td>0</td>\n",
       "      <td>0</td>\n",
       "      <td>0</td>\n",
       "      <td>0</td>\n",
       "      <td>0</td>\n",
       "      <td>0</td>\n",
       "      <td>0</td>\n",
       "      <td>...</td>\n",
       "      <td>16</td>\n",
       "      <td>13</td>\n",
       "      <td>6</td>\n",
       "      <td>20</td>\n",
       "      <td>16</td>\n",
       "      <td>7</td>\n",
       "      <td>25</td>\n",
       "      <td>21</td>\n",
       "      <td>6</td>\n",
       "      <td>15</td>\n",
       "    </tr>\n",
       "    <tr>\n",
       "      <th>2</th>\n",
       "      <td>2803017</td>\n",
       "      <td>8372333</td>\n",
       "      <td>0</td>\n",
       "      <td>9</td>\n",
       "      <td>2</td>\n",
       "      <td>0</td>\n",
       "      <td>14</td>\n",
       "      <td>7</td>\n",
       "      <td>1</td>\n",
       "      <td>14</td>\n",
       "      <td>...</td>\n",
       "      <td>1</td>\n",
       "      <td>1</td>\n",
       "      <td>0</td>\n",
       "      <td>1</td>\n",
       "      <td>1</td>\n",
       "      <td>0</td>\n",
       "      <td>0</td>\n",
       "      <td>0</td>\n",
       "      <td>0</td>\n",
       "      <td>8</td>\n",
       "    </tr>\n",
       "    <tr>\n",
       "      <th>3</th>\n",
       "      <td>4529348</td>\n",
       "      <td>894645</td>\n",
       "      <td>0</td>\n",
       "      <td>11</td>\n",
       "      <td>11</td>\n",
       "      <td>10</td>\n",
       "      <td>11</td>\n",
       "      <td>10</td>\n",
       "      <td>9</td>\n",
       "      <td>10</td>\n",
       "      <td>...</td>\n",
       "      <td>1</td>\n",
       "      <td>1</td>\n",
       "      <td>1</td>\n",
       "      <td>1</td>\n",
       "      <td>1</td>\n",
       "      <td>1</td>\n",
       "      <td>1</td>\n",
       "      <td>1</td>\n",
       "      <td>1</td>\n",
       "      <td>15</td>\n",
       "    </tr>\n",
       "    <tr>\n",
       "      <th>4</th>\n",
       "      <td>5096572</td>\n",
       "      <td>4211638</td>\n",
       "      <td>0</td>\n",
       "      <td>31</td>\n",
       "      <td>31</td>\n",
       "      <td>31</td>\n",
       "      <td>31</td>\n",
       "      <td>31</td>\n",
       "      <td>31</td>\n",
       "      <td>31</td>\n",
       "      <td>...</td>\n",
       "      <td>7</td>\n",
       "      <td>1</td>\n",
       "      <td>0</td>\n",
       "      <td>9</td>\n",
       "      <td>1</td>\n",
       "      <td>0</td>\n",
       "      <td>16</td>\n",
       "      <td>1</td>\n",
       "      <td>0</td>\n",
       "      <td>7</td>\n",
       "    </tr>\n",
       "  </tbody>\n",
       "</table>\n",
       "<p>5 rows × 29 columns</p>\n",
       "</div>"
      ],
      "text/plain": [
       "   node1_id  node2_id  is_chat  f1_x  f2_x  f3_x  f4_x  f5_x  f6_x  f7_x  ...  \\\n",
       "0   8446602   6636127        0    22     0     0    24     0     0    24  ...   \n",
       "1   1430102   7433949        0     0     0     0     0     0     0     0  ...   \n",
       "2   2803017   8372333        0     9     2     0    14     7     1    14  ...   \n",
       "3   4529348    894645        0    11    11    10    11    10     9    10  ...   \n",
       "4   5096572   4211638        0    31    31    31    31    31    31    31  ...   \n",
       "\n",
       "   f4_y  f5_y  f6_y  f7_y  f8_y  f9_y  f10_y  f11_y  f12_y  f13_y  \n",
       "0    15    11     5    19    12     5     16     10      4     10  \n",
       "1    16    13     6    20    16     7     25     21      6     15  \n",
       "2     1     1     0     1     1     0      0      0      0      8  \n",
       "3     1     1     1     1     1     1      1      1      1     15  \n",
       "4     7     1     0     9     1     0     16      1      0      7  \n",
       "\n",
       "[5 rows x 29 columns]"
      ]
     },
     "execution_count": 4,
     "metadata": {},
     "output_type": "execute_result"
    }
   ],
   "source": [
    "df.head()"
   ]
  },
  {
   "cell_type": "code",
   "execution_count": 5,
   "metadata": {},
   "outputs": [],
   "source": [
    "dep_var=['is_chat']"
   ]
  },
  {
   "cell_type": "code",
   "execution_count": 6,
   "metadata": {},
   "outputs": [],
   "source": [
    "cont_vars=['f1_x','f2_x','f3_x','f4_x','f5_x','f6_x','f7_x','f8_x','f9_x','f10_x','f11_x','f12_x','f13_x','f1_y','f2_y','f3_y','f4_y','f5_y','f6_y','f7_y','f8_y','f9_y','f10_y','f11_y','f12_y','f13_y']"
   ]
  },
  {
   "cell_type": "code",
   "execution_count": 7,
   "metadata": {},
   "outputs": [
    {
     "data": {
      "text/plain": [
       "26"
      ]
     },
     "execution_count": 7,
     "metadata": {},
     "output_type": "execute_result"
    }
   ],
   "source": [
    "len(cont_vars)"
   ]
  },
  {
   "cell_type": "code",
   "execution_count": 8,
   "metadata": {},
   "outputs": [],
   "source": [
    "cat_vars = ['node1_id','node2_id']"
   ]
  },
  {
   "cell_type": "code",
   "execution_count": 9,
   "metadata": {},
   "outputs": [
    {
     "data": {
      "text/plain": [
       "node1_id    int64\n",
       "node2_id    int64\n",
       "is_chat     int64\n",
       "f1_x        int64\n",
       "f2_x        int64\n",
       "f3_x        int64\n",
       "f4_x        int64\n",
       "f5_x        int64\n",
       "f6_x        int64\n",
       "f7_x        int64\n",
       "f8_x        int64\n",
       "f9_x        int64\n",
       "f10_x       int64\n",
       "f11_x       int64\n",
       "f12_x       int64\n",
       "f13_x       int64\n",
       "f1_y        int64\n",
       "f2_y        int64\n",
       "f3_y        int64\n",
       "f4_y        int64\n",
       "f5_y        int64\n",
       "f6_y        int64\n",
       "f7_y        int64\n",
       "f8_y        int64\n",
       "f9_y        int64\n",
       "f10_y       int64\n",
       "f11_y       int64\n",
       "f12_y       int64\n",
       "f13_y       int64\n",
       "dtype: object"
      ]
     },
     "execution_count": 9,
     "metadata": {},
     "output_type": "execute_result"
    }
   ],
   "source": [
    "df.dtypes"
   ]
  },
  {
   "cell_type": "code",
   "execution_count": 10,
   "metadata": {},
   "outputs": [],
   "source": [
    "for col in cat_vars:\n",
    "    df[col] = df[col].astype('category')"
   ]
  },
  {
   "cell_type": "code",
   "execution_count": 11,
   "metadata": {},
   "outputs": [
    {
     "data": {
      "text/plain": [
       "node1_id    category\n",
       "node2_id    category\n",
       "is_chat        int64\n",
       "f1_x           int64\n",
       "f2_x           int64\n",
       "f3_x           int64\n",
       "f4_x           int64\n",
       "f5_x           int64\n",
       "f6_x           int64\n",
       "f7_x           int64\n",
       "f8_x           int64\n",
       "f9_x           int64\n",
       "f10_x          int64\n",
       "f11_x          int64\n",
       "f12_x          int64\n",
       "f13_x          int64\n",
       "f1_y           int64\n",
       "f2_y           int64\n",
       "f3_y           int64\n",
       "f4_y           int64\n",
       "f5_y           int64\n",
       "f6_y           int64\n",
       "f7_y           int64\n",
       "f8_y           int64\n",
       "f9_y           int64\n",
       "f10_y          int64\n",
       "f11_y          int64\n",
       "f12_y          int64\n",
       "f13_y          int64\n",
       "dtype: object"
      ]
     },
     "execution_count": 11,
     "metadata": {},
     "output_type": "execute_result"
    }
   ],
   "source": [
    "df.dtypes"
   ]
  },
  {
   "cell_type": "code",
   "execution_count": 12,
   "metadata": {},
   "outputs": [],
   "source": [
    "valid_list=list(range(80000,len(df)))"
   ]
  },
  {
   "cell_type": "code",
   "execution_count": 13,
   "metadata": {},
   "outputs": [
    {
     "data": {
      "text/plain": [
       "20000"
      ]
     },
     "execution_count": 13,
     "metadata": {},
     "output_type": "execute_result"
    }
   ],
   "source": [
    "len(valid_list)"
   ]
  },
  {
   "cell_type": "code",
   "execution_count": 14,
   "metadata": {},
   "outputs": [
    {
     "data": {
      "text/html": [
       "<div>\n",
       "<style scoped>\n",
       "    .dataframe tbody tr th:only-of-type {\n",
       "        vertical-align: middle;\n",
       "    }\n",
       "\n",
       "    .dataframe tbody tr th {\n",
       "        vertical-align: top;\n",
       "    }\n",
       "\n",
       "    .dataframe thead th {\n",
       "        text-align: right;\n",
       "    }\n",
       "</style>\n",
       "<table border=\"1\" class=\"dataframe\">\n",
       "  <thead>\n",
       "    <tr style=\"text-align: right;\">\n",
       "      <th></th>\n",
       "      <th>node1_id</th>\n",
       "      <th>node2_id</th>\n",
       "      <th>is_chat</th>\n",
       "      <th>f1_x</th>\n",
       "      <th>f2_x</th>\n",
       "      <th>f3_x</th>\n",
       "      <th>f4_x</th>\n",
       "      <th>f5_x</th>\n",
       "      <th>f6_x</th>\n",
       "      <th>f7_x</th>\n",
       "      <th>...</th>\n",
       "      <th>f4_y</th>\n",
       "      <th>f5_y</th>\n",
       "      <th>f6_y</th>\n",
       "      <th>f7_y</th>\n",
       "      <th>f8_y</th>\n",
       "      <th>f9_y</th>\n",
       "      <th>f10_y</th>\n",
       "      <th>f11_y</th>\n",
       "      <th>f12_y</th>\n",
       "      <th>f13_y</th>\n",
       "    </tr>\n",
       "  </thead>\n",
       "  <tbody>\n",
       "    <tr>\n",
       "      <th>0</th>\n",
       "      <td>8446602</td>\n",
       "      <td>6636127</td>\n",
       "      <td>0</td>\n",
       "      <td>22</td>\n",
       "      <td>0</td>\n",
       "      <td>0</td>\n",
       "      <td>24</td>\n",
       "      <td>0</td>\n",
       "      <td>0</td>\n",
       "      <td>24</td>\n",
       "      <td>...</td>\n",
       "      <td>15</td>\n",
       "      <td>11</td>\n",
       "      <td>5</td>\n",
       "      <td>19</td>\n",
       "      <td>12</td>\n",
       "      <td>5</td>\n",
       "      <td>16</td>\n",
       "      <td>10</td>\n",
       "      <td>4</td>\n",
       "      <td>10</td>\n",
       "    </tr>\n",
       "    <tr>\n",
       "      <th>1</th>\n",
       "      <td>1430102</td>\n",
       "      <td>7433949</td>\n",
       "      <td>0</td>\n",
       "      <td>0</td>\n",
       "      <td>0</td>\n",
       "      <td>0</td>\n",
       "      <td>0</td>\n",
       "      <td>0</td>\n",
       "      <td>0</td>\n",
       "      <td>0</td>\n",
       "      <td>...</td>\n",
       "      <td>16</td>\n",
       "      <td>13</td>\n",
       "      <td>6</td>\n",
       "      <td>20</td>\n",
       "      <td>16</td>\n",
       "      <td>7</td>\n",
       "      <td>25</td>\n",
       "      <td>21</td>\n",
       "      <td>6</td>\n",
       "      <td>15</td>\n",
       "    </tr>\n",
       "    <tr>\n",
       "      <th>2</th>\n",
       "      <td>2803017</td>\n",
       "      <td>8372333</td>\n",
       "      <td>0</td>\n",
       "      <td>9</td>\n",
       "      <td>2</td>\n",
       "      <td>0</td>\n",
       "      <td>14</td>\n",
       "      <td>7</td>\n",
       "      <td>1</td>\n",
       "      <td>14</td>\n",
       "      <td>...</td>\n",
       "      <td>1</td>\n",
       "      <td>1</td>\n",
       "      <td>0</td>\n",
       "      <td>1</td>\n",
       "      <td>1</td>\n",
       "      <td>0</td>\n",
       "      <td>0</td>\n",
       "      <td>0</td>\n",
       "      <td>0</td>\n",
       "      <td>8</td>\n",
       "    </tr>\n",
       "    <tr>\n",
       "      <th>3</th>\n",
       "      <td>4529348</td>\n",
       "      <td>894645</td>\n",
       "      <td>0</td>\n",
       "      <td>11</td>\n",
       "      <td>11</td>\n",
       "      <td>10</td>\n",
       "      <td>11</td>\n",
       "      <td>10</td>\n",
       "      <td>9</td>\n",
       "      <td>10</td>\n",
       "      <td>...</td>\n",
       "      <td>1</td>\n",
       "      <td>1</td>\n",
       "      <td>1</td>\n",
       "      <td>1</td>\n",
       "      <td>1</td>\n",
       "      <td>1</td>\n",
       "      <td>1</td>\n",
       "      <td>1</td>\n",
       "      <td>1</td>\n",
       "      <td>15</td>\n",
       "    </tr>\n",
       "    <tr>\n",
       "      <th>4</th>\n",
       "      <td>5096572</td>\n",
       "      <td>4211638</td>\n",
       "      <td>0</td>\n",
       "      <td>31</td>\n",
       "      <td>31</td>\n",
       "      <td>31</td>\n",
       "      <td>31</td>\n",
       "      <td>31</td>\n",
       "      <td>31</td>\n",
       "      <td>31</td>\n",
       "      <td>...</td>\n",
       "      <td>7</td>\n",
       "      <td>1</td>\n",
       "      <td>0</td>\n",
       "      <td>9</td>\n",
       "      <td>1</td>\n",
       "      <td>0</td>\n",
       "      <td>16</td>\n",
       "      <td>1</td>\n",
       "      <td>0</td>\n",
       "      <td>7</td>\n",
       "    </tr>\n",
       "  </tbody>\n",
       "</table>\n",
       "<p>5 rows × 29 columns</p>\n",
       "</div>"
      ],
      "text/plain": [
       "  node1_id node2_id  is_chat  f1_x  f2_x  f3_x  f4_x  f5_x  f6_x  f7_x  ...  \\\n",
       "0  8446602  6636127        0    22     0     0    24     0     0    24  ...   \n",
       "1  1430102  7433949        0     0     0     0     0     0     0     0  ...   \n",
       "2  2803017  8372333        0     9     2     0    14     7     1    14  ...   \n",
       "3  4529348   894645        0    11    11    10    11    10     9    10  ...   \n",
       "4  5096572  4211638        0    31    31    31    31    31    31    31  ...   \n",
       "\n",
       "   f4_y  f5_y  f6_y  f7_y  f8_y  f9_y  f10_y  f11_y  f12_y  f13_y  \n",
       "0    15    11     5    19    12     5     16     10      4     10  \n",
       "1    16    13     6    20    16     7     25     21      6     15  \n",
       "2     1     1     0     1     1     0      0      0      0      8  \n",
       "3     1     1     1     1     1     1      1      1      1     15  \n",
       "4     7     1     0     9     1     0     16      1      0      7  \n",
       "\n",
       "[5 rows x 29 columns]"
      ]
     },
     "execution_count": 14,
     "metadata": {},
     "output_type": "execute_result"
    }
   ],
   "source": [
    "df.head()"
   ]
  },
  {
   "cell_type": "code",
   "execution_count": 15,
   "metadata": {},
   "outputs": [],
   "source": [
    "train_df=df[0:80000]"
   ]
  },
  {
   "cell_type": "code",
   "execution_count": 16,
   "metadata": {},
   "outputs": [],
   "source": [
    "path=''"
   ]
  },
  {
   "cell_type": "code",
   "execution_count": 19,
   "metadata": {},
   "outputs": [],
   "source": [
    "data = (TabularList.from_df(df, path=path, cat_names=cat_vars, cont_names=cont_vars, procs=[],)\n",
    "                .split_by_idx(valid_list)\n",
    "                .label_from_df(cols=dep_var)\n",
    "                .databunch())"
   ]
  },
  {
   "cell_type": "code",
   "execution_count": 20,
   "metadata": {},
   "outputs": [
    {
     "data": {
      "text/html": [
       "<table border=\"1\" class=\"dataframe\">\n",
       "  <thead>\n",
       "    <tr style=\"text-align: right;\">\n",
       "      <th>node1_id</th>\n",
       "      <th>node2_id</th>\n",
       "      <th>f1_x</th>\n",
       "      <th>f2_x</th>\n",
       "      <th>f3_x</th>\n",
       "      <th>f4_x</th>\n",
       "      <th>f5_x</th>\n",
       "      <th>f6_x</th>\n",
       "      <th>f7_x</th>\n",
       "      <th>f8_x</th>\n",
       "      <th>f9_x</th>\n",
       "      <th>f10_x</th>\n",
       "      <th>f11_x</th>\n",
       "      <th>f12_x</th>\n",
       "      <th>f13_x</th>\n",
       "      <th>f1_y</th>\n",
       "      <th>f2_y</th>\n",
       "      <th>f3_y</th>\n",
       "      <th>f4_y</th>\n",
       "      <th>f5_y</th>\n",
       "      <th>f6_y</th>\n",
       "      <th>f7_y</th>\n",
       "      <th>f8_y</th>\n",
       "      <th>f9_y</th>\n",
       "      <th>f10_y</th>\n",
       "      <th>f11_y</th>\n",
       "      <th>f12_y</th>\n",
       "      <th>f13_y</th>\n",
       "      <th>target</th>\n",
       "    </tr>\n",
       "  </thead>\n",
       "  <tbody>\n",
       "    <tr>\n",
       "      <td>757005</td>\n",
       "      <td>6701150</td>\n",
       "      <td>31.0000</td>\n",
       "      <td>31.0000</td>\n",
       "      <td>5.0000</td>\n",
       "      <td>31.0000</td>\n",
       "      <td>31.0000</td>\n",
       "      <td>5.0000</td>\n",
       "      <td>31.0000</td>\n",
       "      <td>30.0000</td>\n",
       "      <td>7.0000</td>\n",
       "      <td>31.0000</td>\n",
       "      <td>27.0000</td>\n",
       "      <td>5.0000</td>\n",
       "      <td>7.0000</td>\n",
       "      <td>31.0000</td>\n",
       "      <td>31.0000</td>\n",
       "      <td>6.0000</td>\n",
       "      <td>31.0000</td>\n",
       "      <td>31.0000</td>\n",
       "      <td>7.0000</td>\n",
       "      <td>31.0000</td>\n",
       "      <td>31.0000</td>\n",
       "      <td>5.0000</td>\n",
       "      <td>31.0000</td>\n",
       "      <td>31.0000</td>\n",
       "      <td>3.0000</td>\n",
       "      <td>7.0000</td>\n",
       "      <td>0</td>\n",
       "    </tr>\n",
       "    <tr>\n",
       "      <td>346679</td>\n",
       "      <td>1649264</td>\n",
       "      <td>6.0000</td>\n",
       "      <td>5.0000</td>\n",
       "      <td>3.0000</td>\n",
       "      <td>13.0000</td>\n",
       "      <td>12.0000</td>\n",
       "      <td>10.0000</td>\n",
       "      <td>19.0000</td>\n",
       "      <td>18.0000</td>\n",
       "      <td>16.0000</td>\n",
       "      <td>26.0000</td>\n",
       "      <td>25.0000</td>\n",
       "      <td>22.0000</td>\n",
       "      <td>8.0000</td>\n",
       "      <td>31.0000</td>\n",
       "      <td>31.0000</td>\n",
       "      <td>23.0000</td>\n",
       "      <td>31.0000</td>\n",
       "      <td>30.0000</td>\n",
       "      <td>25.0000</td>\n",
       "      <td>30.0000</td>\n",
       "      <td>29.0000</td>\n",
       "      <td>24.0000</td>\n",
       "      <td>30.0000</td>\n",
       "      <td>28.0000</td>\n",
       "      <td>22.0000</td>\n",
       "      <td>15.0000</td>\n",
       "      <td>0</td>\n",
       "    </tr>\n",
       "    <tr>\n",
       "      <td>1430233</td>\n",
       "      <td>5659933</td>\n",
       "      <td>31.0000</td>\n",
       "      <td>21.0000</td>\n",
       "      <td>0.0000</td>\n",
       "      <td>31.0000</td>\n",
       "      <td>22.0000</td>\n",
       "      <td>0.0000</td>\n",
       "      <td>31.0000</td>\n",
       "      <td>25.0000</td>\n",
       "      <td>0.0000</td>\n",
       "      <td>31.0000</td>\n",
       "      <td>25.0000</td>\n",
       "      <td>0.0000</td>\n",
       "      <td>4.0000</td>\n",
       "      <td>0.0000</td>\n",
       "      <td>0.0000</td>\n",
       "      <td>0.0000</td>\n",
       "      <td>0.0000</td>\n",
       "      <td>0.0000</td>\n",
       "      <td>0.0000</td>\n",
       "      <td>3.0000</td>\n",
       "      <td>2.0000</td>\n",
       "      <td>1.0000</td>\n",
       "      <td>3.0000</td>\n",
       "      <td>2.0000</td>\n",
       "      <td>1.0000</td>\n",
       "      <td>7.0000</td>\n",
       "      <td>0</td>\n",
       "    </tr>\n",
       "    <tr>\n",
       "      <td>4783457</td>\n",
       "      <td>4485719</td>\n",
       "      <td>0.0000</td>\n",
       "      <td>0.0000</td>\n",
       "      <td>0.0000</td>\n",
       "      <td>0.0000</td>\n",
       "      <td>0.0000</td>\n",
       "      <td>0.0000</td>\n",
       "      <td>0.0000</td>\n",
       "      <td>0.0000</td>\n",
       "      <td>0.0000</td>\n",
       "      <td>0.0000</td>\n",
       "      <td>0.0000</td>\n",
       "      <td>0.0000</td>\n",
       "      <td>15.0000</td>\n",
       "      <td>10.0000</td>\n",
       "      <td>9.0000</td>\n",
       "      <td>9.0000</td>\n",
       "      <td>17.0000</td>\n",
       "      <td>16.0000</td>\n",
       "      <td>16.0000</td>\n",
       "      <td>17.0000</td>\n",
       "      <td>16.0000</td>\n",
       "      <td>16.0000</td>\n",
       "      <td>17.0000</td>\n",
       "      <td>16.0000</td>\n",
       "      <td>16.0000</td>\n",
       "      <td>8.0000</td>\n",
       "      <td>0</td>\n",
       "    </tr>\n",
       "    <tr>\n",
       "      <td>755390</td>\n",
       "      <td>1990855</td>\n",
       "      <td>29.0000</td>\n",
       "      <td>9.0000</td>\n",
       "      <td>1.0000</td>\n",
       "      <td>30.0000</td>\n",
       "      <td>13.0000</td>\n",
       "      <td>1.0000</td>\n",
       "      <td>24.0000</td>\n",
       "      <td>9.0000</td>\n",
       "      <td>0.0000</td>\n",
       "      <td>17.0000</td>\n",
       "      <td>8.0000</td>\n",
       "      <td>0.0000</td>\n",
       "      <td>15.0000</td>\n",
       "      <td>0.0000</td>\n",
       "      <td>0.0000</td>\n",
       "      <td>0.0000</td>\n",
       "      <td>0.0000</td>\n",
       "      <td>0.0000</td>\n",
       "      <td>0.0000</td>\n",
       "      <td>2.0000</td>\n",
       "      <td>0.0000</td>\n",
       "      <td>0.0000</td>\n",
       "      <td>2.0000</td>\n",
       "      <td>0.0000</td>\n",
       "      <td>0.0000</td>\n",
       "      <td>7.0000</td>\n",
       "      <td>0</td>\n",
       "    </tr>\n",
       "  </tbody>\n",
       "</table>"
      ],
      "text/plain": [
       "<IPython.core.display.HTML object>"
      ]
     },
     "metadata": {},
     "output_type": "display_data"
    }
   ],
   "source": [
    "data.show_batch(rows=5)"
   ]
  },
  {
   "cell_type": "code",
   "execution_count": 21,
   "metadata": {},
   "outputs": [],
   "source": [
    "learn = tabular_learner(data, layers=[1000,500], ps=[0.001,0.01], emb_drop=0.04, metrics=accuracy)"
   ]
  },
  {
   "cell_type": "code",
   "execution_count": 22,
   "metadata": {},
   "outputs": [
    {
     "data": {
      "text/plain": [
       "TabularModel(\n",
       "  (embeds): ModuleList(\n",
       "    (0): Embedding(97328, 600)\n",
       "    (1): Embedding(98197, 600)\n",
       "  )\n",
       "  (emb_drop): Dropout(p=0.04)\n",
       "  (bn_cont): BatchNorm1d(26, eps=1e-05, momentum=0.1, affine=True, track_running_stats=True)\n",
       "  (layers): Sequential(\n",
       "    (0): Linear(in_features=1226, out_features=1000, bias=True)\n",
       "    (1): ReLU(inplace)\n",
       "    (2): BatchNorm1d(1000, eps=1e-05, momentum=0.1, affine=True, track_running_stats=True)\n",
       "    (3): Dropout(p=0.001)\n",
       "    (4): Linear(in_features=1000, out_features=500, bias=True)\n",
       "    (5): ReLU(inplace)\n",
       "    (6): BatchNorm1d(500, eps=1e-05, momentum=0.1, affine=True, track_running_stats=True)\n",
       "    (7): Dropout(p=0.01)\n",
       "    (8): Linear(in_features=500, out_features=2, bias=True)\n",
       "  )\n",
       ")"
      ]
     },
     "execution_count": 22,
     "metadata": {},
     "output_type": "execute_result"
    }
   ],
   "source": [
    "learn.model"
   ]
  },
  {
   "cell_type": "code",
   "execution_count": 23,
   "metadata": {},
   "outputs": [
    {
     "data": {
      "text/html": [],
      "text/plain": [
       "<IPython.core.display.HTML object>"
      ]
     },
     "metadata": {},
     "output_type": "display_data"
    },
    {
     "name": "stdout",
     "output_type": "stream",
     "text": [
      "LR Finder is complete, type {learner_name}.recorder.plot() to see the graph.\n"
     ]
    }
   ],
   "source": [
    "learn.lr_find()"
   ]
  },
  {
   "cell_type": "code",
   "execution_count": 24,
   "metadata": {},
   "outputs": [
    {
     "data": {
      "image/png": "[encoded data removed]",
      "text/plain": [
       "<Figure size 432x288 with 1 Axes>"
      ]
     },
     "metadata": {
      "needs_background": "light"
     },
     "output_type": "display_data"
    }
   ],
   "source": [
    "learn.recorder.plot()"
   ]
  },
  {
   "cell_type": "code",
   "execution_count": 25,
   "metadata": {},
   "outputs": [
    {
     "data": {
      "text/html": [
       "Total time: 02:33 <p><table border=\"1\" class=\"dataframe\">\n",
       "  <thead>\n",
       "    <tr style=\"text-align: left;\">\n",
       "      <th>epoch</th>\n",
       "      <th>train_loss</th>\n",
       "      <th>valid_loss</th>\n",
       "      <th>accuracy</th>\n",
       "      <th>time</th>\n",
       "    </tr>\n",
       "  </thead>\n",
       "  <tbody>\n",
       "    <tr>\n",
       "      <td>0</td>\n",
       "      <td>0.126494</td>\n",
       "      <td>0.125255</td>\n",
       "      <td>0.966950</td>\n",
       "      <td>01:16</td>\n",
       "    </tr>\n",
       "    <tr>\n",
       "      <td>1</td>\n",
       "      <td>0.077141</td>\n",
       "      <td>0.134556</td>\n",
       "      <td>0.967200</td>\n",
       "      <td>01:16</td>\n",
       "    </tr>\n",
       "  </tbody>\n",
       "</table>"
      ],
      "text/plain": [
       "<IPython.core.display.HTML object>"
      ]
     },
     "metadata": {},
     "output_type": "display_data"
    }
   ],
   "source": [
    "learn.fit_one_cycle(2,1e-2)"
   ]
  },
  {
   "cell_type": "code",
   "execution_count": 26,
   "metadata": {},
   "outputs": [
    {
     "data": {
      "text/html": [
       "Total time: 02:33 <p><table border=\"1\" class=\"dataframe\">\n",
       "  <thead>\n",
       "    <tr style=\"text-align: left;\">\n",
       "      <th>epoch</th>\n",
       "      <th>train_loss</th>\n",
       "      <th>valid_loss</th>\n",
       "      <th>accuracy</th>\n",
       "      <th>time</th>\n",
       "    </tr>\n",
       "  </thead>\n",
       "  <tbody>\n",
       "    <tr>\n",
       "      <td>0</td>\n",
       "      <td>0.061472</td>\n",
       "      <td>0.134132</td>\n",
       "      <td>0.968350</td>\n",
       "      <td>01:17</td>\n",
       "    </tr>\n",
       "    <tr>\n",
       "      <td>1</td>\n",
       "      <td>0.056210</td>\n",
       "      <td>0.135329</td>\n",
       "      <td>0.968300</td>\n",
       "      <td>01:16</td>\n",
       "    </tr>\n",
       "  </tbody>\n",
       "</table>"
      ],
      "text/plain": [
       "<IPython.core.display.HTML object>"
      ]
     },
     "metadata": {},
     "output_type": "display_data"
    }
   ],
   "source": [
    "learn.fit_one_cycle(2,5e-5)"
   ]
  },
  {
   "cell_type": "code",
   "execution_count": 27,
   "metadata": {},
   "outputs": [],
   "source": [
    "temp_result_pred,val=learn.get_preds(DatasetType.Valid)"
   ]
  },
  {
   "cell_type": "code",
   "execution_count": 28,
   "metadata": {},
   "outputs": [
    {
     "data": {
      "text/plain": [
       "tensor([0, 0, 0,  ..., 0, 0, 0])"
      ]
     },
     "execution_count": 28,
     "metadata": {},
     "output_type": "execute_result"
    }
   ],
   "source": [
    "val"
   ]
  },
  {
   "cell_type": "code",
   "execution_count": 29,
   "metadata": {},
   "outputs": [],
   "source": [
    "result=val.numpy()"
   ]
  },
  {
   "cell_type": "code",
   "execution_count": 36,
   "metadata": {},
   "outputs": [],
   "source": [
    "result_new = temp_result_pred.numpy()"
   ]
  },
  {
   "cell_type": "code",
   "execution_count": 37,
   "metadata": {},
   "outputs": [
    {
     "data": {
      "text/plain": [
       "array([[0.994815, 0.005185],\n",
       "       [0.993288, 0.006712],\n",
       "       [0.992713, 0.007287],\n",
       "       [0.994063, 0.005937],\n",
       "       ...,\n",
       "       [0.995049, 0.004951],\n",
       "       [0.776733, 0.223267],\n",
       "       [0.993445, 0.006555],\n",
       "       [0.99765 , 0.00235 ]], dtype=float32)"
      ]
     },
     "execution_count": 37,
     "metadata": {},
     "output_type": "execute_result"
    }
   ],
   "source": [
    "result_new"
   ]
  },
  {
   "cell_type": "code",
   "execution_count": null,
   "metadata": {},
   "outputs": [],
   "source": [
    "count = 0\n",
    "for i in result:\n",
    "    if i==1:\n",
    "        new_df[count,'is_chat']=1\n",
    "        count= count+1\n",
    "    else:\n",
    "        new_df[count,'is_chat']=0\n",
    "        count=count+1"
   ]
  },
  {
   "cell_type": "code",
   "execution_count": 60,
   "metadata": {
    "scrolled": true
   },
   "outputs": [
    {
     "name": "stdout",
     "output_type": "stream",
     "text": [
      "They Chat\n",
      "They Chat\n",
      "They Chat\n",
      "They Chat\n",
      "They Chat\n",
      "They Chat\n",
      "They Chat\n",
      "They Chat\n",
      "They Chat\n",
      "They Chat\n",
      "They Chat\n",
      "They Chat\n",
      "They Chat\n",
      "They Chat\n",
      "They Chat\n",
      "They Chat\n",
      "They Chat\n",
      "They Chat\n",
      "They Chat\n",
      "They Chat\n",
      "They Chat\n",
      "They Chat\n",
      "They Chat\n",
      "They Chat\n",
      "They Chat\n",
      "They Chat\n",
      "They Chat\n",
      "They Chat\n",
      "They Chat\n",
      "They Chat\n",
      "They Chat\n",
      "They Chat\n",
      "They Chat\n",
      "They Chat\n",
      "They Chat\n",
      "They Chat\n",
      "They Chat\n",
      "They Chat\n",
      "They Chat\n",
      "They Chat\n",
      "They Chat\n",
      "They Chat\n",
      "They Chat\n",
      "They Chat\n",
      "They Chat\n",
      "They Chat\n",
      "They Chat\n",
      "They Chat\n",
      "They Chat\n",
      "They Chat\n",
      "They Chat\n",
      "They Chat\n",
      "They Chat\n",
      "They Chat\n",
      "They Chat\n",
      "They Chat\n",
      "They Chat\n",
      "They Chat\n",
      "They Chat\n",
      "They Chat\n",
      "They Chat\n",
      "They Chat\n",
      "They Chat\n",
      "They Chat\n",
      "They Chat\n",
      "They Chat\n",
      "They Chat\n",
      "They Chat\n",
      "They Chat\n",
      "They Chat\n",
      "They Chat\n",
      "They Chat\n",
      "They Chat\n",
      "They Chat\n",
      "They Chat\n",
      "They Chat\n",
      "They Chat\n",
      "They Chat\n",
      "They Chat\n",
      "They Chat\n",
      "They Chat\n",
      "They Chat\n",
      "They Chat\n",
      "They Chat\n",
      "They Chat\n",
      "They Chat\n",
      "They Chat\n",
      "They Chat\n",
      "They Chat\n",
      "They Chat\n",
      "They Chat\n",
      "They Chat\n",
      "They Chat\n",
      "They Chat\n",
      "They Chat\n",
      "They Chat\n",
      "They Chat\n",
      "They Chat\n",
      "They Chat\n",
      "They Chat\n",
      "They Chat\n",
      "They Chat\n",
      "They Chat\n",
      "They Chat\n",
      "They Chat\n",
      "They Chat\n",
      "They Chat\n",
      "They Chat\n",
      "They Chat\n",
      "They Chat\n",
      "They Chat\n",
      "They Chat\n",
      "They Chat\n",
      "They Chat\n",
      "They Chat\n",
      "They Chat\n",
      "They Chat\n",
      "They Chat\n",
      "They Chat\n",
      "They Chat\n",
      "They Chat\n",
      "They Chat\n",
      "They Chat\n",
      "They Chat\n",
      "They Chat\n",
      "They Chat\n",
      "They Chat\n",
      "They Chat\n",
      "They Chat\n",
      "They Chat\n",
      "They Chat\n",
      "They Chat\n",
      "They Chat\n",
      "They Chat\n",
      "They Chat\n",
      "They Chat\n",
      "They Chat\n",
      "They Chat\n",
      "They Chat\n",
      "They Chat\n",
      "They Chat\n",
      "They Chat\n",
      "They Chat\n",
      "They Chat\n",
      "They Chat\n",
      "They Chat\n",
      "They Chat\n",
      "They Chat\n",
      "They Chat\n",
      "They Chat\n",
      "They Chat\n",
      "They Chat\n",
      "They Chat\n",
      "They Chat\n",
      "They Chat\n",
      "They Chat\n",
      "They Chat\n",
      "They Chat\n",
      "They Chat\n",
      "They Chat\n",
      "They Chat\n",
      "They Chat\n",
      "They Chat\n",
      "They Chat\n",
      "They Chat\n",
      "They Chat\n",
      "They Chat\n",
      "They Chat\n",
      "They Chat\n",
      "They Chat\n",
      "They Chat\n",
      "They Chat\n",
      "They Chat\n",
      "They Chat\n",
      "They Chat\n",
      "They Chat\n",
      "They Chat\n",
      "They Chat\n",
      "They Chat\n",
      "They Chat\n",
      "They Chat\n",
      "They Chat\n",
      "They Chat\n",
      "They Chat\n",
      "They Chat\n",
      "They Chat\n",
      "They Chat\n",
      "They Chat\n",
      "They Chat\n",
      "They Chat\n",
      "They Chat\n",
      "They Chat\n",
      "They Chat\n",
      "They Chat\n",
      "They Chat\n",
      "They Chat\n",
      "They Chat\n",
      "They Chat\n",
      "They Chat\n",
      "They Chat\n",
      "They Chat\n",
      "They Chat\n",
      "They Chat\n",
      "They Chat\n",
      "They Chat\n",
      "They Chat\n",
      "They Chat\n",
      "They Chat\n",
      "They Chat\n",
      "They Chat\n",
      "They Chat\n",
      "They Chat\n",
      "They Chat\n",
      "They Chat\n",
      "They Chat\n",
      "They Chat\n",
      "They Chat\n",
      "They Chat\n",
      "They Chat\n",
      "They Chat\n",
      "They Chat\n",
      "They Chat\n",
      "They Chat\n",
      "They Chat\n",
      "They Chat\n",
      "They Chat\n",
      "They Chat\n",
      "They Chat\n",
      "They Chat\n",
      "They Chat\n",
      "They Chat\n",
      "They Chat\n",
      "They Chat\n",
      "They Chat\n",
      "They Chat\n",
      "They Chat\n",
      "They Chat\n",
      "They Chat\n",
      "They Chat\n",
      "They Chat\n",
      "They Chat\n",
      "They Chat\n",
      "They Chat\n",
      "They Chat\n",
      "They Chat\n",
      "They Chat\n",
      "They Chat\n",
      "They Chat\n",
      "They Chat\n",
      "They Chat\n",
      "They Chat\n",
      "They Chat\n",
      "They Chat\n",
      "They Chat\n",
      "They Chat\n",
      "They Chat\n",
      "They Chat\n",
      "They Chat\n",
      "They Chat\n",
      "They Chat\n",
      "They Chat\n",
      "They Chat\n",
      "They Chat\n",
      "They Chat\n",
      "They Chat\n",
      "They Chat\n",
      "They Chat\n",
      "They Chat\n",
      "They Chat\n",
      "They Chat\n",
      "They Chat\n",
      "They Chat\n",
      "They Chat\n",
      "They Chat\n",
      "They Chat\n",
      "They Chat\n",
      "They Chat\n",
      "They Chat\n",
      "They Chat\n",
      "They Chat\n",
      "They Chat\n",
      "They Chat\n",
      "They Chat\n",
      "They Chat\n",
      "They Chat\n",
      "They Chat\n",
      "They Chat\n",
      "They Chat\n",
      "They Chat\n",
      "They Chat\n",
      "They Chat\n",
      "They Chat\n",
      "They Chat\n",
      "They Chat\n",
      "They Chat\n",
      "They Chat\n",
      "They Chat\n",
      "They Chat\n",
      "They Chat\n",
      "They Chat\n",
      "They Chat\n",
      "They Chat\n",
      "They Chat\n",
      "They Chat\n",
      "They Chat\n",
      "They Chat\n",
      "They Chat\n",
      "They Chat\n",
      "They Chat\n",
      "They Chat\n",
      "They Chat\n",
      "They Chat\n",
      "They Chat\n",
      "They Chat\n",
      "They Chat\n",
      "They Chat\n",
      "They Chat\n",
      "They Chat\n",
      "They Chat\n",
      "They Chat\n",
      "They Chat\n",
      "They Chat\n",
      "They Chat\n",
      "They Chat\n",
      "They Chat\n",
      "They Chat\n",
      "They Chat\n",
      "They Chat\n",
      "They Chat\n",
      "They Chat\n",
      "They Chat\n",
      "They Chat\n",
      "They Chat\n",
      "They Chat\n",
      "They Chat\n",
      "They Chat\n",
      "They Chat\n",
      "They Chat\n",
      "They Chat\n",
      "They Chat\n",
      "They Chat\n",
      "They Chat\n"
     ]
    }
   ],
   "source": [
    "count=0\n",
    "predicted=0\n",
    "for i in result_new:\n",
    "    if i[1]>0.2:\n",
    "        print(\"They Chat\")\n",
    "        new_df.loc[count,'is_chat']=1\n",
    "        \n",
    "        predicted = predicted + 1\n",
    "    else:\n",
    "        new_df.loc[count,'is_chat']=0\n",
    "    count=count+1"
   ]
  },
  {
   "cell_type": "code",
   "execution_count": 61,
   "metadata": {},
   "outputs": [
    {
     "data": {
      "text/plain": [
       "342"
      ]
     },
     "execution_count": 61,
     "metadata": {},
     "output_type": "execute_result"
    }
   ],
   "source": [
    "predicted"
   ]
  },
  {
   "cell_type": "code",
   "execution_count": 38,
   "metadata": {},
   "outputs": [],
   "source": [
    "result_index = np.argmax(result_new,axis=1)"
   ]
  },
  {
   "cell_type": "code",
   "execution_count": 39,
   "metadata": {},
   "outputs": [
    {
     "data": {
      "text/plain": [
       "array([0, 0, 0, 0, ..., 0, 0, 0, 0])"
      ]
     },
     "execution_count": 39,
     "metadata": {},
     "output_type": "execute_result"
    }
   ],
   "source": [
    "result_index"
   ]
  },
  {
   "cell_type": "code",
   "execution_count": 40,
   "metadata": {
    "scrolled": true
   },
   "outputs": [
    {
     "name": "stdout",
     "output_type": "stream",
     "text": [
      "THEY CHAT\n",
      "THEY CHAT\n",
      "THEY CHAT\n",
      "THEY CHAT\n",
      "THEY CHAT\n",
      "THEY CHAT\n",
      "THEY CHAT\n",
      "THEY CHAT\n",
      "THEY CHAT\n",
      "THEY CHAT\n",
      "THEY CHAT\n"
     ]
    }
   ],
   "source": [
    "count = 0\n",
    "for i in result_index:\n",
    "    if i==1:\n",
    "        print(\"THEY CHAT\")\n",
    "        count= count+1"
   ]
  },
  {
   "cell_type": "code",
   "execution_count": 41,
   "metadata": {},
   "outputs": [
    {
     "data": {
      "text/plain": [
       "11"
      ]
     },
     "execution_count": 41,
     "metadata": {},
     "output_type": "execute_result"
    }
   ],
   "source": [
    "count"
   ]
  },
  {
   "cell_type": "code",
   "execution_count": 53,
   "metadata": {},
   "outputs": [],
   "source": [
    "new_df = pd.DataFrame(columns=['is_chat'])"
   ]
  },
  {
   "cell_type": "code",
   "execution_count": null,
   "metadata": {},
   "outputs": [],
   "source": [
    "count = 0\n",
    "for i in result:\n",
    "    if i==1:\n",
    "        new_df[count,'is_chat']=1\n",
    "        count= count+1\n",
    "    else:\n",
    "        new_df[count,'is_chat']=0\n",
    "        count=count+1"
   ]
  },
  {
   "cell_type": "code",
   "execution_count": 57,
   "metadata": {},
   "outputs": [],
   "source": [
    "new_df.to_csv('hike_1.csv',index=False)"
   ]
  },
  {
   "cell_type": "code",
   "execution_count": 56,
   "metadata": {},
   "outputs": [
    {
     "data": {
      "text/html": [
       "<div>\n",
       "<style scoped>\n",
       "    .dataframe tbody tr th:only-of-type {\n",
       "        vertical-align: middle;\n",
       "    }\n",
       "\n",
       "    .dataframe tbody tr th {\n",
       "        vertical-align: top;\n",
       "    }\n",
       "\n",
       "    .dataframe thead th {\n",
       "        text-align: right;\n",
       "    }\n",
       "</style>\n",
       "<table border=\"1\" class=\"dataframe\">\n",
       "  <thead>\n",
       "    <tr style=\"text-align: right;\">\n",
       "      <th></th>\n",
       "      <th>is_chat</th>\n",
       "    </tr>\n",
       "  </thead>\n",
       "  <tbody>\n",
       "    <tr>\n",
       "      <th>0</th>\n",
       "      <td>0.0</td>\n",
       "    </tr>\n",
       "    <tr>\n",
       "      <th>1</th>\n",
       "      <td>0.0</td>\n",
       "    </tr>\n",
       "    <tr>\n",
       "      <th>2</th>\n",
       "      <td>0.0</td>\n",
       "    </tr>\n",
       "    <tr>\n",
       "      <th>3</th>\n",
       "      <td>0.0</td>\n",
       "    </tr>\n",
       "    <tr>\n",
       "      <th>4</th>\n",
       "      <td>0.0</td>\n",
       "    </tr>\n",
       "  </tbody>\n",
       "</table>\n",
       "</div>"
      ],
      "text/plain": [
       "   is_chat\n",
       "0      0.0\n",
       "1      0.0\n",
       "2      0.0\n",
       "3      0.0\n",
       "4      0.0"
      ]
     },
     "execution_count": 56,
     "metadata": {},
     "output_type": "execute_result"
    }
   ],
   "source": [
    "new_df.head()"
   ]
  },
  {
   "cell_type": "code",
   "execution_count": 58,
   "metadata": {},
   "outputs": [
    {
     "data": {
      "text/plain": [
       "20000"
      ]
     },
     "execution_count": 58,
     "metadata": {},
     "output_type": "execute_result"
    }
   ],
   "source": [
    "len(new_df)"
   ]
  },
  {
   "cell_type": "code",
   "execution_count": 62,
   "metadata": {},
   "outputs": [
    {
     "data": {
      "text/plain": [
       "LabelList (20000 items)\n",
       "x: TabularList\n",
       "node1_id 1798714; node2_id 1925780; f1_x 19.0000; f2_x 1.0000; f3_x 0.0000; f4_x 26.0000; f5_x 1.0000; f6_x 0.0000; f7_x 30.0000; f8_x 1.0000; f9_x 0.0000; f10_x 27.0000; f11_x 1.0000; f12_x 0.0000; f13_x 15.0000; f1_y 0.0000; f2_y 0.0000; f3_y 0.0000; f4_y 0.0000; f5_y 0.0000; f6_y 0.0000; f7_y 1.0000; f8_y 1.0000; f9_y 0.0000; f10_y 8.0000; f11_y 3.0000; f12_y 0.0000; f13_y 15.0000; ,node1_id 4822781; node2_id 405079; f1_x 31.0000; f2_x 31.0000; f3_x 31.0000; f4_x 31.0000; f5_x 31.0000; f6_x 31.0000; f7_x 31.0000; f8_x 30.0000; f9_x 30.0000; f10_x 31.0000; f11_x 30.0000; f12_x 30.0000; f13_x 7.0000; f1_y 0.0000; f2_y 0.0000; f3_y 0.0000; f4_y 0.0000; f5_y 0.0000; f6_y 0.0000; f7_y 0.0000; f8_y 0.0000; f9_y 0.0000; f10_y 4.0000; f11_y 4.0000; f12_y 0.0000; f13_y 15.0000; ,node1_id 5487485; node2_id 386130; f1_x 31.0000; f2_x 31.0000; f3_x 30.0000; f4_x 31.0000; f5_x 31.0000; f6_x 31.0000; f7_x 31.0000; f8_x 31.0000; f9_x 31.0000; f10_x 31.0000; f11_x 31.0000; f12_x 30.0000; f13_x 7.0000; f1_y 8.0000; f2_y 5.0000; f3_y 3.0000; f4_y 1.0000; f5_y 1.0000; f6_y 1.0000; f7_y 0.0000; f8_y 0.0000; f9_y 0.0000; f10_y 0.0000; f11_y 0.0000; f12_y 0.0000; f13_y 8.0000; ,node1_id 966202; node2_id 2884966; f1_x 30.0000; f2_x 17.0000; f3_x 2.0000; f4_x 30.0000; f5_x 19.0000; f6_x 3.0000; f7_x 30.0000; f8_x 21.0000; f9_x 4.0000; f10_x 31.0000; f11_x 24.0000; f12_x 4.0000; f13_x 7.0000; f1_y 23.0000; f2_y 4.0000; f3_y 0.0000; f4_y 30.0000; f5_y 6.0000; f6_y 0.0000; f7_y 28.0000; f8_y 6.0000; f9_y 0.0000; f10_y 21.0000; f11_y 6.0000; f12_y 0.0000; f13_y 15.0000; ,node1_id 2887059; node2_id 326646; f1_x 6.0000; f2_x 3.0000; f3_x 0.0000; f4_x 13.0000; f5_x 4.0000; f6_x 0.0000; f7_x 19.0000; f8_x 8.0000; f9_x 0.0000; f10_x 22.0000; f11_x 11.0000; f12_x 3.0000; f13_x 15.0000; f1_y 31.0000; f2_y 5.0000; f3_y 0.0000; f4_y 31.0000; f5_y 3.0000; f6_y 0.0000; f7_y 31.0000; f8_y 2.0000; f9_y 0.0000; f10_y 31.0000; f11_y 1.0000; f12_y 0.0000; f13_y 15.0000; \n",
       "y: CategoryList\n",
       "0,0,0,0,0\n",
       "Path: ."
      ]
     },
     "execution_count": 62,
     "metadata": {},
     "output_type": "execute_result"
    }
   ],
   "source": [
    "data.valid_ds"
   ]
  },
  {
   "cell_type": "code",
   "execution_count": null,
   "metadata": {},
   "outputs": [],
   "source": []
  }
 ],
 "metadata": {
  "kernelspec": {
   "display_name": "Python 3",
   "language": "python",
   "name": "python3"
  },
  "language_info": {
   "codemirror_mode": {
    "name": "ipython",
    "version": 3
   },
   "file_extension": ".py",
   "mimetype": "text/x-python",
   "name": "python",
   "nbconvert_exporter": "python",
   "pygments_lexer": "ipython3",
   "version": "3.7.2"
  }
 },
 "nbformat": 4,
 "nbformat_minor": 2
}
