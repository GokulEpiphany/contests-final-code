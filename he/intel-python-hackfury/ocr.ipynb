{
 "cells": [
  {
   "cell_type": "code",
   "execution_count": 1,
   "metadata": {},
   "outputs": [],
   "source": [
    "from tesserocr import PyTessBaseAPI, PSM, OEM\n",
    "import tesserocr\n",
    "from PIL import Image\n",
    "import pandas as pd\n",
    "import os"
   ]
  },
  {
   "cell_type": "code",
   "execution_count": 2,
   "metadata": {},
   "outputs": [],
   "source": [
    "def ocr_from_file_path(file_path):\n",
    "    text=\"\"\n",
    "    with PyTessBaseAPI(psm=PSM.AUTO_OSD) as api:\n",
    "        try:\n",
    "            image = Image.open(file_path)\n",
    "            api.SetImage(image)\n",
    "            api.Recognize()\n",
    "            it = api.AnalyseLayout()\n",
    "            orientation, _, _, _ = it.Orientation()\n",
    "            image = image.rotate(orientation*90,expand=True)\n",
    "            text = tesserocr.image_to_text(image)\n",
    "            text = text.lower()\n",
    "            text = text.strip()\n",
    "            text = text.replace('\\n',' ')\n",
    "        except Exception as e:\n",
    "            print(e)\n",
    "            pass\n",
    "    return text"
   ]
  },
  {
   "cell_type": "code",
   "execution_count": 5,
   "metadata": {},
   "outputs": [],
   "source": [
    "import fastai"
   ]
  },
  {
   "cell_type": "code",
   "execution_count": 3,
   "metadata": {},
   "outputs": [
    {
     "data": {
      "text/plain": [
       "'/home/ubuntu/intel_hackfury'"
      ]
     },
     "execution_count": 3,
     "metadata": {},
     "output_type": "execute_result"
    }
   ],
   "source": [
    "pwd"
   ]
  },
  {
   "cell_type": "code",
   "execution_count": 8,
   "metadata": {},
   "outputs": [],
   "source": [
    "text_returned = ocr_from_file_path('/home/ubuntu/intel_hackfury/ocr-test.jpg')"
   ]
  },
  {
   "cell_type": "code",
   "execution_count": 9,
   "metadata": {},
   "outputs": [
    {
     "data": {
      "text/plain": [
       "'“note to self: never be afraid to stand up for what you personally believe in.”  via cmiaucsom'"
      ]
     },
     "execution_count": 9,
     "metadata": {},
     "output_type": "execute_result"
    }
   ],
   "source": [
    "text_returned"
   ]
  },
  {
   "cell_type": "code",
   "execution_count": 12,
   "metadata": {},
   "outputs": [],
   "source": [
    "text_returned = ocr_from_file_path('/home/ubuntu/intel_hackfury/fake-tweet.jpg')"
   ]
  },
  {
   "cell_type": "code",
   "execution_count": 13,
   "metadata": {},
   "outputs": [
    {
     "data": {
      "text/plain": [
       "'internet explorer 0  ((inlmefastest lmao guys so proud, explorer memes are becoming funny  12,52am 472019  94.8m meeets 6.9m likes  0 ll c? oﬁ'"
      ]
     },
     "execution_count": 13,
     "metadata": {},
     "output_type": "execute_result"
    }
   ],
   "source": [
    "text_returned"
   ]
  },
  {
   "cell_type": "code",
   "execution_count": null,
   "metadata": {},
   "outputs": [],
   "source": []
  }
 ],
 "metadata": {
  "kernelspec": {
   "display_name": "Environment (conda_intel_hackfury)",
   "language": "python",
   "name": "conda_intel_hackfury"
  },
  "language_info": {
   "codemirror_mode": {
    "name": "ipython",
    "version": 3
   },
   "file_extension": ".py",
   "mimetype": "text/x-python",
   "name": "python",
   "nbconvert_exporter": "python",
   "pygments_lexer": "ipython3",
   "version": "3.7.4"
  }
 },
 "nbformat": 4,
 "nbformat_minor": 2
}
