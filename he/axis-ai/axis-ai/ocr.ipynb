{
 "cells": [
  {
   "cell_type": "code",
   "execution_count": null,
   "metadata": {},
   "outputs": [],
   "source": [
    "from skimage import io,morphology,filters,color,transform,measure"
   ]
  },
  {
   "cell_type": "code",
   "execution_count": null,
   "metadata": {},
   "outputs": [],
   "source": [
    "from matplotlib import pyplot as plt\n",
    "fig = plt.figure(figsize=(20,20))\n",
    "\n",
    "plt.imshow(io.imread(\"test.png\"))\n",
    "\n",
    "plt.show()"
   ]
  },
  {
   "cell_type": "code",
   "execution_count": null,
   "metadata": {},
   "outputs": [],
   "source": [
    "class BoundingBox(object):\n",
    "    def __init__(self,contour):\n",
    "        self.contour = contour\n",
    "        y,x = zip(*contour)\n",
    "        self.x1 = min(x)\n",
    "        self.y1 = min(y)\n",
    "        self.x2 = max(x)\n",
    "        self.y2 = max(y)\n",
    "    @property\n",
    "    def h(self):\n",
    "        return self.y2 - self.y1\n",
    "    \n",
    "    @property\n",
    "    def w(self):\n",
    "        return self.x2 - self.x1\n",
    "    \n",
    "    @property\n",
    "    def area(self):\n",
    "        return self.h * self.w\n",
    "    \n",
    "    @property\n",
    "    def center(self):\n",
    "        return (self.x1 + self.w // 2, self.y1+self.h//2)\n",
    "    \n",
    "    @property\n",
    "    def plot(self):\n",
    "        return (\n",
    "        (self.x1,self.x2,self.x1,self.x1),\n",
    "        (self.y1,self.y1,self.y2,self.y1),\n",
    "        )\n",
    "    \n",
    "    @property\n",
    "    def aspect(self):\n",
    "        return self.h/self.w\n",
    "    \n",
    "    def project_y(self,y):\n",
    "        copy = BoundingBox(self.contour)\n",
    "        copy.y1 = y\n",
    "        copy.y2 = y+self.h\n",
    "        return copy\n",
    "    \n",
    "    def project_x(self,x):\n",
    "        copy = BoundingBox(self.contour)\n",
    "        copy.x1 = x\n",
    "        copy.x2 = x + self.w\n",
    "        return copy\n",
    "    \n",
    "    def __eq__(self,other):\n",
    "        return self.x1 - 10 <= other.x1 <= self.x1 + 10 and self.y1 - 10 <= other.y1 <= self.y1 + 10\n",
    "    \n",
    "    def __repr__(self):\n",
    "        return \"BoundingBox ({},{},{},{})\".format(self.x1,self.y1,self.x2,self.y2)"
   ]
  },
  {
   "cell_type": "code",
   "execution_count": null,
   "metadata": {},
   "outputs": [],
   "source": [
    "def morphed( im ,min_area=1024):\n",
    "    im = threshold(im)\n",
    "    k1 = morphology.rectangle(1,40)\n",
    "    k2 = morphology.rectangle(20,1)\n",
    "    return morphology.remove_small_objects(\n",
    "        morphology.binary_opening(im,k1) | morphology.binary_opening(im,k2),\n",
    "        min_area,\n",
    "    )"
   ]
  },
  {
   "cell_type": "code",
   "execution_count": null,
   "metadata": {},
   "outputs": [],
   "source": [
    "def threshold(im):\n",
    "    im = color.rgb2gray(im)\n",
    "    im = im>filters.threshold_otsu(im)\n",
    "    return ~im"
   ]
  },
  {
   "cell_type": "code",
   "execution_count": null,
   "metadata": {},
   "outputs": [],
   "source": [
    "image = io.imread(\"test.png\")"
   ]
  },
  {
   "cell_type": "code",
   "execution_count": null,
   "metadata": {},
   "outputs": [],
   "source": [
    "im = morphed(image)\n",
    "fig,ax = plt.subplots(figsize=(20,20))\n",
    "ax.imshow(~im,interpolation='nearest',cmap = plt.cm.gray)\n",
    "\n",
    "contours = measure.find_contours(~im,0.8)\n",
    "\n",
    "for contour in contours:\n",
    "    ax.plot(*BoundingBox(contour).plot,linewidth=2)\n",
    "    \n",
    "ax.axis('image')\n",
    "ax.set_xticks([])\n",
    "ax.set_yticks([])\n",
    "plt.show()"
   ]
  },
  {
   "cell_type": "code",
   "execution_count": null,
   "metadata": {},
   "outputs": [],
   "source": [
    "def exclude_outliers(contours):\n",
    "    bboxes = [BoundingBox(contour) for contour in contours]\n",
    "    mean_area = np.mean([bbox.area for bbox in bboxes])\n",
    "    return [bbox for bbox in bboxes if bbox.area < mean_area * 2 and 0.05 < bbox.aspect < 1]"
   ]
  },
  {
   "cell_type": "code",
   "execution_count": null,
   "metadata": {},
   "outputs": [],
   "source": [
    "def unique(boxes):\n",
    "    if len(bboxes)<2:\n",
    "        return bboxes\n",
    "    bboxes = sorted(bboxes,key=lambda x:x.area)\n",
    "    unique = [bboxes.pop(0)]\n",
    "    for bbox in bboxes:\n",
    "        if any(bbox == _ for _ in unique):\n",
    "            continue\n",
    "        unique.append(bbox)\n",
    "    return unique"
   ]
  },
  {
   "cell_type": "code",
   "execution_count": null,
   "metadata": {},
   "outputs": [],
   "source": [
    "def gridfy(bboxes):\n",
    "    y1 = min(bbox.y1 for bbox in bboxes)\n",
    "    x1 = min(bbox.x1 for bbox in bboxes)\n",
    "    bboxes = sorted(bboxes,key = lambda x:x.area)\n",
    "    horizontal = sorted(unique([bbox.project_y(y1) for bbox in bboxes]),key=lambda x:x.x1)\n",
    "    vertical = sorted(unique([bbox.project_x(x1) for bbox in bboxes]),key = lambda x:x.y1)\n",
    "    grid ={}\n",
    "    for i,v in enumerate(vertical):\n",
    "        for j,h in enumerate(horizontal):\n",
    "            cell = h.project_y(v.y1)\n",
    "            cells = [_ for _ in bboxes if _ == cell]\n",
    "            if cells:\n",
    "                grid[(i,j)] = cells[0]\n",
    "    return grid"
   ]
  },
  {
   "cell_type": "code",
   "execution_count": null,
   "metadata": {},
   "outputs": [],
   "source": [
    "import numpy as np\n",
    "im = morphed(image)\n",
    "fig,ax = plt.subplots(figsize=(20,20))\n",
    "ax.imshow (~im,interpolation='nearest',cmap = plt.cm.gray)\n",
    "contours = measure.find_contours(~im,0.8)\n",
    "cells = gridfy(exclude_outliers(contours))\n",
    "\n",
    "\n",
    "for (line,column), bbox in cells.items():\n",
    "    ax.plot(*bbox.plot, linewidth=2)\n",
    "    ax.text(*bbox.center,\"{},{}\".format(line,column))\n",
    "    \n",
    "ax.axis('numbered')\n",
    "ax.set_xticks([])\n",
    "ax.set_yticks([])\n",
    "plt.show()"
   ]
  },
  {
   "cell_type": "code",
   "execution_count": null,
   "metadata": {},
   "outputs": [],
   "source": [
    "import tesserocr\n",
    "\n",
    "import csv"
   ]
  },
  {
   "cell_type": "code",
   "execution_count": null,
   "metadata": {},
   "outputs": [],
   "source": [
    "from PIL import Image\n",
    "\n",
    "from io import StringIO\n",
    "from unidecode import unidecode"
   ]
  },
  {
   "cell_type": "code",
   "execution_count": null,
   "metadata": {},
   "outputs": [],
   "source": [
    "def cells_to_csv(image,cells,f):\n",
    "    pil = Image.fromarray(image)\n",
    "    ocr={}\n",
    "    for (line,column),bbox in cells.items():\n",
    "        ocr[line,column]= tesserocr.image_to_text(\n",
    "            pil.crop(\n",
    "                (bbox.x1,bbox.y1,bbox.x2,bbox.y2)\n",
    "            ).resize(\n",
    "                (int(bbox.w * w),int(bbox.h * 2))\n",
    "            )\n",
    "        )\n",
    "        \n",
    "    lines,columns = zip(*ocr)\n",
    "    lines,columns = max(lines),max(columns)\n",
    "    writer = csv.writer(f)\n",
    "    writer.writerow([str(column) for column in range(1,columns+2)])\n",
    "    for line in range(lines+1):\n",
    "        row = [ocr.get((line,column),\"\") for column in range(columns+1)]\n",
    "        writer.writerow([unidecode(_) for _ in row])\n",
    "        \n",
    "with open(\"output.csv\",'w',newline='',encoding='utf-8') as f:\n",
    "    cells_to_csv(image,cells,f)"
   ]
  },
  {
   "cell_type": "code",
   "execution_count": null,
   "metadata": {},
   "outputs": [],
   "source": [
    "import petl as etl\n",
    "etl.fromcsv(\"output.csv\",encoding='iso-8859-1',errors='ignore')"
   ]
  },
  {
   "cell_type": "code",
   "execution_count": null,
   "metadata": {},
   "outputs": [],
   "source": []
  },
  {
   "cell_type": "code",
   "execution_count": null,
   "metadata": {},
   "outputs": [],
   "source": []
  },
  {
   "cell_type": "code",
   "execution_count": null,
   "metadata": {},
   "outputs": [],
   "source": []
  },
  {
   "cell_type": "code",
   "execution_count": null,
   "metadata": {},
   "outputs": [],
   "source": []
  },
  {
   "cell_type": "code",
   "execution_count": null,
   "metadata": {},
   "outputs": [],
   "source": []
  },
  {
   "cell_type": "code",
   "execution_count": null,
   "metadata": {},
   "outputs": [],
   "source": []
  },
  {
   "cell_type": "code",
   "execution_count": null,
   "metadata": {},
   "outputs": [],
   "source": []
  }
 ],
 "metadata": {
  "kernelspec": {
   "display_name": "Python 3",
   "language": "python",
   "name": "python3"
  },
  "language_info": {
   "codemirror_mode": {
    "name": "ipython",
    "version": 3
   },
   "file_extension": ".py",
   "mimetype": "text/x-python",
   "name": "python",
   "nbconvert_exporter": "python",
   "pygments_lexer": "ipython3",
   "version": "3.7.1"
  }
 },
 "nbformat": 4,
 "nbformat_minor": 2
}
