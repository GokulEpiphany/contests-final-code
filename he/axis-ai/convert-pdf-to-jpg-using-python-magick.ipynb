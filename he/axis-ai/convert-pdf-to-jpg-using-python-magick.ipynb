{
 "cells": [
  {
   "cell_type": "code",
   "execution_count": 9,
   "metadata": {},
   "outputs": [
    {
     "name": "stdout",
     "output_type": "stream",
     "text": [
      "saving name001\n",
      "D:\\repositories\\axis-ai\\data\\hackerearth\\given\\001.pdf\n",
      "saving name002\n",
      "D:\\repositories\\axis-ai\\data\\hackerearth\\given\\002.pdf\n",
      "saving name003\n",
      "D:\\repositories\\axis-ai\\data\\hackerearth\\given\\003.pdf\n",
      "saving name004\n",
      "D:\\repositories\\axis-ai\\data\\hackerearth\\given\\004.pdf\n",
      "saving name005\n",
      "D:\\repositories\\axis-ai\\data\\hackerearth\\given\\005.pdf\n",
      "saving name006\n",
      "D:\\repositories\\axis-ai\\data\\hackerearth\\given\\006.pdf\n",
      "saving name007\n",
      "D:\\repositories\\axis-ai\\data\\hackerearth\\given\\007.pdf\n",
      "saving name008\n",
      "D:\\repositories\\axis-ai\\data\\hackerearth\\given\\008.pdf\n",
      "saving name009\n",
      "D:\\repositories\\axis-ai\\data\\hackerearth\\given\\009.pdf\n",
      "saving name010\n",
      "D:\\repositories\\axis-ai\\data\\hackerearth\\given\\010.pdf\n",
      "saving name011\n",
      "D:\\repositories\\axis-ai\\data\\hackerearth\\given\\011.pdf\n",
      "saving name012\n",
      "D:\\repositories\\axis-ai\\data\\hackerearth\\given\\012.pdf\n",
      "saving name013\n",
      "D:\\repositories\\axis-ai\\data\\hackerearth\\given\\013.pdf\n",
      "saving name014\n",
      "D:\\repositories\\axis-ai\\data\\hackerearth\\given\\014.pdf\n",
      "saving name015\n",
      "D:\\repositories\\axis-ai\\data\\hackerearth\\given\\015.pdf\n",
      "saving name016\n",
      "D:\\repositories\\axis-ai\\data\\hackerearth\\given\\016.pdf\n",
      "saving name017\n",
      "D:\\repositories\\axis-ai\\data\\hackerearth\\given\\017.pdf\n",
      "saving name018\n",
      "D:\\repositories\\axis-ai\\data\\hackerearth\\given\\018.pdf\n",
      "saving name019\n",
      "D:\\repositories\\axis-ai\\data\\hackerearth\\given\\019.pdf\n",
      "saving name020\n",
      "D:\\repositories\\axis-ai\\data\\hackerearth\\given\\020.pdf\n",
      "saving name021\n",
      "D:\\repositories\\axis-ai\\data\\hackerearth\\given\\021.pdf\n",
      "saving name022\n",
      "D:\\repositories\\axis-ai\\data\\hackerearth\\given\\022.pdf\n",
      "saving name023\n",
      "D:\\repositories\\axis-ai\\data\\hackerearth\\given\\023.pdf\n",
      "saving name024\n",
      "D:\\repositories\\axis-ai\\data\\hackerearth\\given\\024.pdf\n",
      "saving name26\n",
      "saving name27\n",
      "saving name28\n",
      "saving name29\n",
      "saving name30\n",
      "saving name31\n",
      "0:00:10.293074\n"
     ]
    }
   ],
   "source": [
    "import os, PythonMagick\n",
    "from PythonMagick import Image\n",
    "from datetime import datetime\n",
    "from shutil import copyfile\n",
    "\n",
    "start_time = datetime.now()\n",
    "\n",
    "pdf_dir = r\"D:\\repositories\\axis-ai\\data\\hackerearth\\given\"\n",
    "bg_colour = \"#ffffff\"\n",
    "\n",
    "\n",
    "for file_name in os.listdir(pdf_dir):\n",
    "    name_to_save = file_name[0:len(file_name) - 4]\n",
    "    print(\"saving name\" + name_to_save)\n",
    "    input_file = pdf_dir + \"\\\\\" + file_name\n",
    "\n",
    "    if file_name.endswith(\".pdf\"):\n",
    "        print(input_file)\n",
    "        im = PythonMagick.Image()\n",
    "        im.quality(2000)\n",
    "        im.read(input_file)\n",
    "        im.write(\"data\\\\hackerearth\\\\converted\\\\image\\\\\"+name_to_save+\".jpg\")\n",
    "    else:\n",
    "        copyfile(input_file, \"data\\\\hackerearth\\\\converted\\\\image\\\\\"+file_name)\n",
    "print(datetime.now() - start_time)"
   ]
  },
  {
   "cell_type": "code",
   "execution_count": null,
   "metadata": {},
   "outputs": [],
   "source": []
  }
 ],
 "metadata": {
  "kernelspec": {
   "display_name": "Python 3",
   "language": "python",
   "name": "python3"
  },
  "language_info": {
   "codemirror_mode": {
    "name": "ipython",
    "version": 3
   },
   "file_extension": ".py",
   "mimetype": "text/x-python",
   "name": "python",
   "nbconvert_exporter": "python",
   "pygments_lexer": "ipython3",
   "version": "3.7.1"
  }
 },
 "nbformat": 4,
 "nbformat_minor": 2
}
